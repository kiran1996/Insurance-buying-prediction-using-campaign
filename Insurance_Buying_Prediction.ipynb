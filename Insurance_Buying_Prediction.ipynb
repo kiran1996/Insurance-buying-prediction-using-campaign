{
  "nbformat": 4,
  "nbformat_minor": 0,
  "metadata": {
    "colab": {
      "name": "Sprint1.ipynb",
      "provenance": [],
      "collapsed_sections": []
    },
    "kernelspec": {
      "name": "python3",
      "display_name": "Python 3"
    },
    "language_info": {
      "name": "python"
    }
  },
  "cells": [
    {
      "cell_type": "code",
      "metadata": {
        "id": "qjtJTYWZ8IyG"
      },
      "source": [
        "import pandas as pd\n",
        "import numpy as np\n",
        "\n",
        "# Visualization libraries\n",
        "import matplotlib as mpl\n",
        "import matplotlib.pyplot as plt\n",
        "import seaborn as sns\n",
        "%matplotlib inline\n",
        "\n",
        "# Predictive Analytics models\n",
        "import sklearn\n",
        "from sklearn import linear_model\n",
        "from sklearn.metrics import mean_squared_error\n",
        "from sklearn.model_selection  import train_test_split"
      ],
      "execution_count": 400,
      "outputs": []
    },
    {
      "cell_type": "code",
      "metadata": {
        "id": "F_0q_0Dj8y4Y"
      },
      "source": [
        "train = pd.read_csv('train_dataset.csv')\n",
        "test = pd.read_csv('test_dataset.csv')"
      ],
      "execution_count": 401,
      "outputs": []
    },
    {
      "cell_type": "code",
      "metadata": {
        "colab": {
          "base_uri": "https://localhost:8080/"
        },
        "id": "_B94P58zMRBF",
        "outputId": "ed182d1a-d417-48ef-b4e7-ade91e1fbb07"
      },
      "source": [
        "print(train.shape)"
      ],
      "execution_count": 402,
      "outputs": [
        {
          "output_type": "stream",
          "text": [
            "(3200, 19)\n"
          ],
          "name": "stdout"
        }
      ]
    },
    {
      "cell_type": "code",
      "metadata": {
        "colab": {
          "base_uri": "https://localhost:8080/"
        },
        "id": "BQ3HcICGM1Jv",
        "outputId": "8b9159e1-d67e-4712-e674-d8b6a85938bc"
      },
      "source": [
        "print(test.shape)"
      ],
      "execution_count": 403,
      "outputs": [
        {
          "output_type": "stream",
          "text": [
            "(800, 18)\n"
          ],
          "name": "stdout"
        }
      ]
    },
    {
      "cell_type": "code",
      "metadata": {
        "colab": {
          "base_uri": "https://localhost:8080/"
        },
        "id": "lEUwiW8cNjL2",
        "outputId": "7b12cd17-5c87-433b-a3b3-cb1681839a8e"
      },
      "source": [
        "#Storing predictor in the separate variable for later use purposes.\n",
        "Insurance = train.Insurance\n",
        "print(Insurance)"
      ],
      "execution_count": 404,
      "outputs": [
        {
          "output_type": "stream",
          "text": [
            "0       0\n",
            "1       0\n",
            "2       0\n",
            "3       0\n",
            "4       0\n",
            "       ..\n",
            "3195    0\n",
            "3196    0\n",
            "3197    0\n",
            "3198    1\n",
            "3199    1\n",
            "Name: Insurance, Length: 3200, dtype: int64\n"
          ],
          "name": "stdout"
        }
      ]
    },
    {
      "cell_type": "code",
      "metadata": {
        "id": "lOvfDQCXN0Il"
      },
      "source": [
        "#Removing Insurance from Dataframe. Insurance does not contain any missing values and is a transformed variable only so no need of data wrandling on Insurance variable.\n",
        "train = train.drop(columns=\"Insurance\")"
      ],
      "execution_count": 405,
      "outputs": []
    },
    {
      "cell_type": "code",
      "metadata": {
        "colab": {
          "base_uri": "https://localhost:8080/"
        },
        "id": "DORaWg6tMECK",
        "outputId": "9aa5d4ba-9329-4952-897a-fc13156f1581"
      },
      "source": [
        "#We will combine both the dataframes for the purpose of Data Transformation and Missing value handling.\n",
        "#Noting that the training has first 3200 rows and testing has last 800 rows\n",
        "frames = [train,test]\n",
        "combine = pd.concat(frames)\n",
        "print(combine.shape)"
      ],
      "execution_count": 406,
      "outputs": [
        {
          "output_type": "stream",
          "text": [
            "(4000, 18)\n"
          ],
          "name": "stdout"
        }
      ]
    },
    {
      "cell_type": "code",
      "metadata": {
        "colab": {
          "base_uri": "https://localhost:8080/",
          "height": 223
        },
        "id": "UUf2lP5ENDhl",
        "outputId": "f5b3b6e6-c713-4ff7-b19a-dda49fa380d4"
      },
      "source": [
        "combine.head(5)"
      ],
      "execution_count": 407,
      "outputs": [
        {
          "output_type": "execute_result",
          "data": {
            "text/html": [
              "<div>\n",
              "<style scoped>\n",
              "    .dataframe tbody tr th:only-of-type {\n",
              "        vertical-align: middle;\n",
              "    }\n",
              "\n",
              "    .dataframe tbody tr th {\n",
              "        vertical-align: top;\n",
              "    }\n",
              "\n",
              "    .dataframe thead th {\n",
              "        text-align: right;\n",
              "    }\n",
              "</style>\n",
              "<table border=\"1\" class=\"dataframe\">\n",
              "  <thead>\n",
              "    <tr style=\"text-align: right;\">\n",
              "      <th></th>\n",
              "      <th>Id</th>\n",
              "      <th>Age</th>\n",
              "      <th>Job</th>\n",
              "      <th>MaritalStatus</th>\n",
              "      <th>Education</th>\n",
              "      <th>Default</th>\n",
              "      <th>Balance</th>\n",
              "      <th>HomeInsurance</th>\n",
              "      <th>Loan</th>\n",
              "      <th>Communication</th>\n",
              "      <th>DayLastContacted</th>\n",
              "      <th>MonthLastContacted</th>\n",
              "      <th>Contacts</th>\n",
              "      <th>DaysPassed</th>\n",
              "      <th>Attempts</th>\n",
              "      <th>Outcome</th>\n",
              "      <th>CallStartTime</th>\n",
              "      <th>CallEndTime</th>\n",
              "    </tr>\n",
              "  </thead>\n",
              "  <tbody>\n",
              "    <tr>\n",
              "      <th>0</th>\n",
              "      <td>CP0</td>\n",
              "      <td>52</td>\n",
              "      <td>management</td>\n",
              "      <td>married</td>\n",
              "      <td>tertiary</td>\n",
              "      <td>0</td>\n",
              "      <td>751</td>\n",
              "      <td>0</td>\n",
              "      <td>0</td>\n",
              "      <td>cellular</td>\n",
              "      <td>14</td>\n",
              "      <td>may</td>\n",
              "      <td>4</td>\n",
              "      <td>371</td>\n",
              "      <td>5</td>\n",
              "      <td>failure</td>\n",
              "      <td>16:36:39</td>\n",
              "      <td>16:39:24</td>\n",
              "    </tr>\n",
              "    <tr>\n",
              "      <th>1</th>\n",
              "      <td>CP1</td>\n",
              "      <td>21</td>\n",
              "      <td>unemployed</td>\n",
              "      <td>married</td>\n",
              "      <td>secondary</td>\n",
              "      <td>0</td>\n",
              "      <td>2062</td>\n",
              "      <td>1</td>\n",
              "      <td>0</td>\n",
              "      <td>NaN</td>\n",
              "      <td>3</td>\n",
              "      <td>jun</td>\n",
              "      <td>1</td>\n",
              "      <td>-1</td>\n",
              "      <td>0</td>\n",
              "      <td>NaN</td>\n",
              "      <td>14:42:44</td>\n",
              "      <td>14:44:27</td>\n",
              "    </tr>\n",
              "    <tr>\n",
              "      <th>2</th>\n",
              "      <td>CP2</td>\n",
              "      <td>37</td>\n",
              "      <td>technician</td>\n",
              "      <td>single</td>\n",
              "      <td>tertiary</td>\n",
              "      <td>0</td>\n",
              "      <td>-1</td>\n",
              "      <td>1</td>\n",
              "      <td>0</td>\n",
              "      <td>cellular</td>\n",
              "      <td>2</td>\n",
              "      <td>feb</td>\n",
              "      <td>2</td>\n",
              "      <td>200</td>\n",
              "      <td>7</td>\n",
              "      <td>other</td>\n",
              "      <td>13:31:39</td>\n",
              "      <td>13:35:22</td>\n",
              "    </tr>\n",
              "    <tr>\n",
              "      <th>3</th>\n",
              "      <td>CP3</td>\n",
              "      <td>46</td>\n",
              "      <td>technician</td>\n",
              "      <td>single</td>\n",
              "      <td>tertiary</td>\n",
              "      <td>0</td>\n",
              "      <td>628</td>\n",
              "      <td>0</td>\n",
              "      <td>0</td>\n",
              "      <td>cellular</td>\n",
              "      <td>20</td>\n",
              "      <td>nov</td>\n",
              "      <td>5</td>\n",
              "      <td>-1</td>\n",
              "      <td>0</td>\n",
              "      <td>NaN</td>\n",
              "      <td>11:18:46</td>\n",
              "      <td>11:26:20</td>\n",
              "    </tr>\n",
              "    <tr>\n",
              "      <th>4</th>\n",
              "      <td>CP4</td>\n",
              "      <td>43</td>\n",
              "      <td>technician</td>\n",
              "      <td>married</td>\n",
              "      <td>secondary</td>\n",
              "      <td>0</td>\n",
              "      <td>3723</td>\n",
              "      <td>1</td>\n",
              "      <td>0</td>\n",
              "      <td>cellular</td>\n",
              "      <td>11</td>\n",
              "      <td>aug</td>\n",
              "      <td>4</td>\n",
              "      <td>-1</td>\n",
              "      <td>0</td>\n",
              "      <td>NaN</td>\n",
              "      <td>14:56:04</td>\n",
              "      <td>14:58:18</td>\n",
              "    </tr>\n",
              "  </tbody>\n",
              "</table>\n",
              "</div>"
            ],
            "text/plain": [
              "    Id  Age         Job  ...  Outcome CallStartTime  CallEndTime\n",
              "0  CP0   52  management  ...  failure      16:36:39     16:39:24\n",
              "1  CP1   21  unemployed  ...      NaN      14:42:44     14:44:27\n",
              "2  CP2   37  technician  ...    other      13:31:39     13:35:22\n",
              "3  CP3   46  technician  ...      NaN      11:18:46     11:26:20\n",
              "4  CP4   43  technician  ...      NaN      14:56:04     14:58:18\n",
              "\n",
              "[5 rows x 18 columns]"
            ]
          },
          "metadata": {},
          "execution_count": 407
        }
      ]
    },
    {
      "cell_type": "code",
      "metadata": {
        "colab": {
          "base_uri": "https://localhost:8080/"
        },
        "id": "Vhg1l3tp_EuQ",
        "outputId": "17b0d52b-2768-423a-fe54-6a0c9d1e65c1"
      },
      "source": [
        "#Missing value handling\n",
        "combine.isnull().sum()"
      ],
      "execution_count": 408,
      "outputs": [
        {
          "output_type": "execute_result",
          "data": {
            "text/plain": [
              "Id                       0\n",
              "Age                      0\n",
              "Job                     19\n",
              "MaritalStatus            0\n",
              "Education              169\n",
              "Default                  0\n",
              "Balance                  0\n",
              "HomeInsurance            0\n",
              "Loan                     0\n",
              "Communication          902\n",
              "DayLastContacted         0\n",
              "MonthLastContacted       0\n",
              "Contacts                 0\n",
              "DaysPassed               0\n",
              "Attempts                 0\n",
              "Outcome               3042\n",
              "CallStartTime            0\n",
              "CallEndTime              0\n",
              "dtype: int64"
            ]
          },
          "metadata": {},
          "execution_count": 408
        }
      ]
    },
    {
      "cell_type": "code",
      "metadata": {
        "colab": {
          "base_uri": "https://localhost:8080/"
        },
        "id": "VkpVLW-AAURZ",
        "outputId": "2c95213b-3893-4327-babc-96dfbcf7c32e"
      },
      "source": [
        "combine.Job.value_counts()"
      ],
      "execution_count": 409,
      "outputs": [
        {
          "output_type": "execute_result",
          "data": {
            "text/plain": [
              "management       893\n",
              "blue-collar      759\n",
              "technician       660\n",
              "admin.           459\n",
              "services         330\n",
              "retired          249\n",
              "self-employed    140\n",
              "student          131\n",
              "unemployed       130\n",
              "entrepreneur     121\n",
              "housemaid        109\n",
              "Name: Job, dtype: int64"
            ]
          },
          "metadata": {},
          "execution_count": 409
        }
      ]
    },
    {
      "cell_type": "code",
      "metadata": {
        "id": "DcZAvOscBX9o"
      },
      "source": [
        "#Replacing missing values in Job with most frequent value of management\n",
        "combine['Job'] = combine['Job'].fillna(combine['Job'].value_counts().index[0])"
      ],
      "execution_count": 410,
      "outputs": []
    },
    {
      "cell_type": "code",
      "metadata": {
        "colab": {
          "base_uri": "https://localhost:8080/"
        },
        "id": "UwaFkFxFEhdz",
        "outputId": "3d6dab91-35cb-458c-ee3e-fe2414db4aca"
      },
      "source": [
        "combine.Education.value_counts()"
      ],
      "execution_count": 411,
      "outputs": [
        {
          "output_type": "execute_result",
          "data": {
            "text/plain": [
              "secondary    1988\n",
              "tertiary     1282\n",
              "primary       561\n",
              "Name: Education, dtype: int64"
            ]
          },
          "metadata": {},
          "execution_count": 411
        }
      ]
    },
    {
      "cell_type": "code",
      "metadata": {
        "id": "O4GLis2jEmw2"
      },
      "source": [
        "combine['Education'] = combine['Education'].fillna(combine['Education'].value_counts().index[0])"
      ],
      "execution_count": 412,
      "outputs": []
    },
    {
      "cell_type": "code",
      "metadata": {
        "colab": {
          "base_uri": "https://localhost:8080/"
        },
        "id": "wXemVC3HEnTG",
        "outputId": "520cd6f5-5f06-49c6-984b-ac49273b744a"
      },
      "source": [
        "combine.Communication.value_counts()"
      ],
      "execution_count": 413,
      "outputs": [
        {
          "output_type": "execute_result",
          "data": {
            "text/plain": [
              "cellular     2831\n",
              "telephone     267\n",
              "Name: Communication, dtype: int64"
            ]
          },
          "metadata": {},
          "execution_count": 413
        }
      ]
    },
    {
      "cell_type": "code",
      "metadata": {
        "id": "uUYY_OYaEtJ_"
      },
      "source": [
        "combine['Communication'] = combine['Communication'].fillna(combine['Communication'].value_counts().index[0])"
      ],
      "execution_count": 414,
      "outputs": []
    },
    {
      "cell_type": "code",
      "metadata": {
        "id": "SHNCtgFLKrH_"
      },
      "source": [
        "#Outcome doesn't make any sense in this case so removing that variable.\n",
        "combine = combine.drop(columns=\"Outcome\")"
      ],
      "execution_count": 415,
      "outputs": []
    },
    {
      "cell_type": "code",
      "metadata": {
        "colab": {
          "base_uri": "https://localhost:8080/"
        },
        "id": "I-dB-RCGLHEd",
        "outputId": "79bae647-3fce-4e4b-e1e3-8bb2a510febe"
      },
      "source": [
        "#Now we have final dataframe with no missing values\n",
        "combine.isnull().sum()"
      ],
      "execution_count": 416,
      "outputs": [
        {
          "output_type": "execute_result",
          "data": {
            "text/plain": [
              "Id                    0\n",
              "Age                   0\n",
              "Job                   0\n",
              "MaritalStatus         0\n",
              "Education             0\n",
              "Default               0\n",
              "Balance               0\n",
              "HomeInsurance         0\n",
              "Loan                  0\n",
              "Communication         0\n",
              "DayLastContacted      0\n",
              "MonthLastContacted    0\n",
              "Contacts              0\n",
              "DaysPassed            0\n",
              "Attempts              0\n",
              "CallStartTime         0\n",
              "CallEndTime           0\n",
              "dtype: int64"
            ]
          },
          "metadata": {},
          "execution_count": 416
        }
      ]
    },
    {
      "cell_type": "markdown",
      "metadata": {
        "id": "lrQrU9caIxcX"
      },
      "source": [
        "# Data Transformation"
      ]
    },
    {
      "cell_type": "code",
      "metadata": {
        "colab": {
          "base_uri": "https://localhost:8080/"
        },
        "id": "seYGE84eI0cM",
        "outputId": "d114ef53-15b7-49e2-b8b4-c4097d5ffff0"
      },
      "source": [
        "combine.info()"
      ],
      "execution_count": 417,
      "outputs": [
        {
          "output_type": "stream",
          "text": [
            "<class 'pandas.core.frame.DataFrame'>\n",
            "Int64Index: 4000 entries, 0 to 799\n",
            "Data columns (total 17 columns):\n",
            " #   Column              Non-Null Count  Dtype \n",
            "---  ------              --------------  ----- \n",
            " 0   Id                  4000 non-null   object\n",
            " 1   Age                 4000 non-null   int64 \n",
            " 2   Job                 4000 non-null   object\n",
            " 3   MaritalStatus       4000 non-null   object\n",
            " 4   Education           4000 non-null   object\n",
            " 5   Default             4000 non-null   int64 \n",
            " 6   Balance             4000 non-null   int64 \n",
            " 7   HomeInsurance       4000 non-null   int64 \n",
            " 8   Loan                4000 non-null   int64 \n",
            " 9   Communication       4000 non-null   object\n",
            " 10  DayLastContacted    4000 non-null   int64 \n",
            " 11  MonthLastContacted  4000 non-null   object\n",
            " 12  Contacts            4000 non-null   int64 \n",
            " 13  DaysPassed          4000 non-null   int64 \n",
            " 14  Attempts            4000 non-null   int64 \n",
            " 15  CallStartTime       4000 non-null   object\n",
            " 16  CallEndTime         4000 non-null   object\n",
            "dtypes: int64(9), object(8)\n",
            "memory usage: 562.5+ KB\n"
          ],
          "name": "stdout"
        }
      ]
    },
    {
      "cell_type": "code",
      "metadata": {
        "id": "TXv8gL_uJG0g"
      },
      "source": [
        "#Data contains categorical variables of Job, MaritalStatus, Education, Communication, MonthLastContacted, CallStartTime and CallEndTime\n",
        "#We will start by transforming each variable individually.\n",
        "\n",
        "#First we will remove ID column from dataframe as its not needed in the predictive modelling.\n",
        "combine = combine.drop(columns=\"Id\")"
      ],
      "execution_count": 418,
      "outputs": []
    },
    {
      "cell_type": "code",
      "metadata": {
        "colab": {
          "base_uri": "https://localhost:8080/"
        },
        "id": "Y7FSLnhYQ9um",
        "outputId": "33783a57-107b-4337-ca55-ad4f3c73a93c"
      },
      "source": [
        "#CallStartTime and CallEndTime are not needed but we will make a new variable called calltime with difference between callstarttime and callendtime.\n",
        "#Converting the time into seconds while the call lasted.\n",
        "from datetime import datetime\n",
        "combine['CallEndTime'] = pd.to_datetime(combine['CallEndTime'], format='%H:%M:%S')\n",
        "combine['CallStartTime'] = pd.to_datetime(combine['CallStartTime'], format='%H:%M:%S')\n",
        "combine[\"CallTime\"] = combine[\"CallEndTime\"] - combine[\"CallStartTime\"]\n",
        "combine['CallTime'] = combine['CallTime'].dt.total_seconds()\n",
        "print(combine['CallTime'].head(5))"
      ],
      "execution_count": 419,
      "outputs": [
        {
          "output_type": "stream",
          "text": [
            "0    165.0\n",
            "1    103.0\n",
            "2    223.0\n",
            "3    454.0\n",
            "4    134.0\n",
            "Name: CallTime, dtype: float64\n"
          ],
          "name": "stdout"
        }
      ]
    },
    {
      "cell_type": "code",
      "metadata": {
        "colab": {
          "base_uri": "https://localhost:8080/"
        },
        "id": "RWqBOkhsTnja",
        "outputId": "0299c634-1432-4679-954a-d5c92ea36540"
      },
      "source": [
        "#Now we will remove the callstarttime and callendtime as those are unnecessary in the model.\n",
        "combine = combine.drop(['CallEndTime','CallStartTime'], axis=1)\n",
        "combine.info()"
      ],
      "execution_count": 420,
      "outputs": [
        {
          "output_type": "stream",
          "text": [
            "<class 'pandas.core.frame.DataFrame'>\n",
            "Int64Index: 4000 entries, 0 to 799\n",
            "Data columns (total 15 columns):\n",
            " #   Column              Non-Null Count  Dtype  \n",
            "---  ------              --------------  -----  \n",
            " 0   Age                 4000 non-null   int64  \n",
            " 1   Job                 4000 non-null   object \n",
            " 2   MaritalStatus       4000 non-null   object \n",
            " 3   Education           4000 non-null   object \n",
            " 4   Default             4000 non-null   int64  \n",
            " 5   Balance             4000 non-null   int64  \n",
            " 6   HomeInsurance       4000 non-null   int64  \n",
            " 7   Loan                4000 non-null   int64  \n",
            " 8   Communication       4000 non-null   object \n",
            " 9   DayLastContacted    4000 non-null   int64  \n",
            " 10  MonthLastContacted  4000 non-null   object \n",
            " 11  Contacts            4000 non-null   int64  \n",
            " 12  DaysPassed          4000 non-null   int64  \n",
            " 13  Attempts            4000 non-null   int64  \n",
            " 14  CallTime            4000 non-null   float64\n",
            "dtypes: float64(1), int64(9), object(5)\n",
            "memory usage: 500.0+ KB\n"
          ],
          "name": "stdout"
        }
      ]
    },
    {
      "cell_type": "code",
      "metadata": {
        "colab": {
          "base_uri": "https://localhost:8080/",
          "height": 257
        },
        "id": "-iDJSUZ2tQvY",
        "outputId": "0c162046-d8a7-4b2d-d172-6efddf701382"
      },
      "source": [
        "#Job Variable Conversion\n",
        "#Job variable does not contain any order within its values so we will use one hot encoding to transform this variable.\n",
        "\n",
        "import category_encoders as ce\n",
        "enc = ce.BinaryEncoder(cols=['Job'],return_df=True)\n",
        "combine = enc.fit_transform(combine)\n",
        "combine.head(5)\n"
      ],
      "execution_count": 421,
      "outputs": [
        {
          "output_type": "stream",
          "text": [
            "/usr/local/lib/python3.7/dist-packages/category_encoders/utils.py:21: FutureWarning: is_categorical is deprecated and will be removed in a future version.  Use is_categorical_dtype instead\n",
            "  elif pd.api.types.is_categorical(cols):\n"
          ],
          "name": "stderr"
        },
        {
          "output_type": "execute_result",
          "data": {
            "text/html": [
              "<div>\n",
              "<style scoped>\n",
              "    .dataframe tbody tr th:only-of-type {\n",
              "        vertical-align: middle;\n",
              "    }\n",
              "\n",
              "    .dataframe tbody tr th {\n",
              "        vertical-align: top;\n",
              "    }\n",
              "\n",
              "    .dataframe thead th {\n",
              "        text-align: right;\n",
              "    }\n",
              "</style>\n",
              "<table border=\"1\" class=\"dataframe\">\n",
              "  <thead>\n",
              "    <tr style=\"text-align: right;\">\n",
              "      <th></th>\n",
              "      <th>Age</th>\n",
              "      <th>Job_0</th>\n",
              "      <th>Job_1</th>\n",
              "      <th>Job_2</th>\n",
              "      <th>Job_3</th>\n",
              "      <th>Job_4</th>\n",
              "      <th>MaritalStatus</th>\n",
              "      <th>Education</th>\n",
              "      <th>Default</th>\n",
              "      <th>Balance</th>\n",
              "      <th>HomeInsurance</th>\n",
              "      <th>Loan</th>\n",
              "      <th>Communication</th>\n",
              "      <th>DayLastContacted</th>\n",
              "      <th>MonthLastContacted</th>\n",
              "      <th>Contacts</th>\n",
              "      <th>DaysPassed</th>\n",
              "      <th>Attempts</th>\n",
              "      <th>CallTime</th>\n",
              "    </tr>\n",
              "  </thead>\n",
              "  <tbody>\n",
              "    <tr>\n",
              "      <th>0</th>\n",
              "      <td>52</td>\n",
              "      <td>0</td>\n",
              "      <td>0</td>\n",
              "      <td>0</td>\n",
              "      <td>0</td>\n",
              "      <td>1</td>\n",
              "      <td>married</td>\n",
              "      <td>tertiary</td>\n",
              "      <td>0</td>\n",
              "      <td>751</td>\n",
              "      <td>0</td>\n",
              "      <td>0</td>\n",
              "      <td>cellular</td>\n",
              "      <td>14</td>\n",
              "      <td>may</td>\n",
              "      <td>4</td>\n",
              "      <td>371</td>\n",
              "      <td>5</td>\n",
              "      <td>165.0</td>\n",
              "    </tr>\n",
              "    <tr>\n",
              "      <th>1</th>\n",
              "      <td>21</td>\n",
              "      <td>0</td>\n",
              "      <td>0</td>\n",
              "      <td>0</td>\n",
              "      <td>1</td>\n",
              "      <td>0</td>\n",
              "      <td>married</td>\n",
              "      <td>secondary</td>\n",
              "      <td>0</td>\n",
              "      <td>2062</td>\n",
              "      <td>1</td>\n",
              "      <td>0</td>\n",
              "      <td>cellular</td>\n",
              "      <td>3</td>\n",
              "      <td>jun</td>\n",
              "      <td>1</td>\n",
              "      <td>-1</td>\n",
              "      <td>0</td>\n",
              "      <td>103.0</td>\n",
              "    </tr>\n",
              "    <tr>\n",
              "      <th>2</th>\n",
              "      <td>37</td>\n",
              "      <td>0</td>\n",
              "      <td>0</td>\n",
              "      <td>0</td>\n",
              "      <td>1</td>\n",
              "      <td>1</td>\n",
              "      <td>single</td>\n",
              "      <td>tertiary</td>\n",
              "      <td>0</td>\n",
              "      <td>-1</td>\n",
              "      <td>1</td>\n",
              "      <td>0</td>\n",
              "      <td>cellular</td>\n",
              "      <td>2</td>\n",
              "      <td>feb</td>\n",
              "      <td>2</td>\n",
              "      <td>200</td>\n",
              "      <td>7</td>\n",
              "      <td>223.0</td>\n",
              "    </tr>\n",
              "    <tr>\n",
              "      <th>3</th>\n",
              "      <td>46</td>\n",
              "      <td>0</td>\n",
              "      <td>0</td>\n",
              "      <td>0</td>\n",
              "      <td>1</td>\n",
              "      <td>1</td>\n",
              "      <td>single</td>\n",
              "      <td>tertiary</td>\n",
              "      <td>0</td>\n",
              "      <td>628</td>\n",
              "      <td>0</td>\n",
              "      <td>0</td>\n",
              "      <td>cellular</td>\n",
              "      <td>20</td>\n",
              "      <td>nov</td>\n",
              "      <td>5</td>\n",
              "      <td>-1</td>\n",
              "      <td>0</td>\n",
              "      <td>454.0</td>\n",
              "    </tr>\n",
              "    <tr>\n",
              "      <th>4</th>\n",
              "      <td>43</td>\n",
              "      <td>0</td>\n",
              "      <td>0</td>\n",
              "      <td>0</td>\n",
              "      <td>1</td>\n",
              "      <td>1</td>\n",
              "      <td>married</td>\n",
              "      <td>secondary</td>\n",
              "      <td>0</td>\n",
              "      <td>3723</td>\n",
              "      <td>1</td>\n",
              "      <td>0</td>\n",
              "      <td>cellular</td>\n",
              "      <td>11</td>\n",
              "      <td>aug</td>\n",
              "      <td>4</td>\n",
              "      <td>-1</td>\n",
              "      <td>0</td>\n",
              "      <td>134.0</td>\n",
              "    </tr>\n",
              "  </tbody>\n",
              "</table>\n",
              "</div>"
            ],
            "text/plain": [
              "   Age  Job_0  Job_1  Job_2  ...  Contacts  DaysPassed Attempts CallTime\n",
              "0   52      0      0      0  ...         4         371        5    165.0\n",
              "1   21      0      0      0  ...         1          -1        0    103.0\n",
              "2   37      0      0      0  ...         2         200        7    223.0\n",
              "3   46      0      0      0  ...         5          -1        0    454.0\n",
              "4   43      0      0      0  ...         4          -1        0    134.0\n",
              "\n",
              "[5 rows x 19 columns]"
            ]
          },
          "metadata": {},
          "execution_count": 421
        }
      ]
    },
    {
      "cell_type": "code",
      "metadata": {
        "colab": {
          "base_uri": "https://localhost:8080/",
          "height": 257
        },
        "id": "4Lil9u0RvBXx",
        "outputId": "19e9a187-6500-464c-f82b-568efaa9adb4"
      },
      "source": [
        "#MaritalStatus Variable Conversion\n",
        "#MaritalStatus variable does not contain any order within its values so we will use one hot encoding to transform this variable.\n",
        "\n",
        "enc = ce.BinaryEncoder(cols=['MaritalStatus'],return_df=True)\n",
        "combine = enc.fit_transform(combine)\n",
        "combine.head(5)"
      ],
      "execution_count": 422,
      "outputs": [
        {
          "output_type": "stream",
          "text": [
            "/usr/local/lib/python3.7/dist-packages/category_encoders/utils.py:21: FutureWarning: is_categorical is deprecated and will be removed in a future version.  Use is_categorical_dtype instead\n",
            "  elif pd.api.types.is_categorical(cols):\n"
          ],
          "name": "stderr"
        },
        {
          "output_type": "execute_result",
          "data": {
            "text/html": [
              "<div>\n",
              "<style scoped>\n",
              "    .dataframe tbody tr th:only-of-type {\n",
              "        vertical-align: middle;\n",
              "    }\n",
              "\n",
              "    .dataframe tbody tr th {\n",
              "        vertical-align: top;\n",
              "    }\n",
              "\n",
              "    .dataframe thead th {\n",
              "        text-align: right;\n",
              "    }\n",
              "</style>\n",
              "<table border=\"1\" class=\"dataframe\">\n",
              "  <thead>\n",
              "    <tr style=\"text-align: right;\">\n",
              "      <th></th>\n",
              "      <th>Age</th>\n",
              "      <th>Job_0</th>\n",
              "      <th>Job_1</th>\n",
              "      <th>Job_2</th>\n",
              "      <th>Job_3</th>\n",
              "      <th>Job_4</th>\n",
              "      <th>MaritalStatus_0</th>\n",
              "      <th>MaritalStatus_1</th>\n",
              "      <th>MaritalStatus_2</th>\n",
              "      <th>Education</th>\n",
              "      <th>Default</th>\n",
              "      <th>Balance</th>\n",
              "      <th>HomeInsurance</th>\n",
              "      <th>Loan</th>\n",
              "      <th>Communication</th>\n",
              "      <th>DayLastContacted</th>\n",
              "      <th>MonthLastContacted</th>\n",
              "      <th>Contacts</th>\n",
              "      <th>DaysPassed</th>\n",
              "      <th>Attempts</th>\n",
              "      <th>CallTime</th>\n",
              "    </tr>\n",
              "  </thead>\n",
              "  <tbody>\n",
              "    <tr>\n",
              "      <th>0</th>\n",
              "      <td>52</td>\n",
              "      <td>0</td>\n",
              "      <td>0</td>\n",
              "      <td>0</td>\n",
              "      <td>0</td>\n",
              "      <td>1</td>\n",
              "      <td>0</td>\n",
              "      <td>0</td>\n",
              "      <td>1</td>\n",
              "      <td>tertiary</td>\n",
              "      <td>0</td>\n",
              "      <td>751</td>\n",
              "      <td>0</td>\n",
              "      <td>0</td>\n",
              "      <td>cellular</td>\n",
              "      <td>14</td>\n",
              "      <td>may</td>\n",
              "      <td>4</td>\n",
              "      <td>371</td>\n",
              "      <td>5</td>\n",
              "      <td>165.0</td>\n",
              "    </tr>\n",
              "    <tr>\n",
              "      <th>1</th>\n",
              "      <td>21</td>\n",
              "      <td>0</td>\n",
              "      <td>0</td>\n",
              "      <td>0</td>\n",
              "      <td>1</td>\n",
              "      <td>0</td>\n",
              "      <td>0</td>\n",
              "      <td>0</td>\n",
              "      <td>1</td>\n",
              "      <td>secondary</td>\n",
              "      <td>0</td>\n",
              "      <td>2062</td>\n",
              "      <td>1</td>\n",
              "      <td>0</td>\n",
              "      <td>cellular</td>\n",
              "      <td>3</td>\n",
              "      <td>jun</td>\n",
              "      <td>1</td>\n",
              "      <td>-1</td>\n",
              "      <td>0</td>\n",
              "      <td>103.0</td>\n",
              "    </tr>\n",
              "    <tr>\n",
              "      <th>2</th>\n",
              "      <td>37</td>\n",
              "      <td>0</td>\n",
              "      <td>0</td>\n",
              "      <td>0</td>\n",
              "      <td>1</td>\n",
              "      <td>1</td>\n",
              "      <td>0</td>\n",
              "      <td>1</td>\n",
              "      <td>0</td>\n",
              "      <td>tertiary</td>\n",
              "      <td>0</td>\n",
              "      <td>-1</td>\n",
              "      <td>1</td>\n",
              "      <td>0</td>\n",
              "      <td>cellular</td>\n",
              "      <td>2</td>\n",
              "      <td>feb</td>\n",
              "      <td>2</td>\n",
              "      <td>200</td>\n",
              "      <td>7</td>\n",
              "      <td>223.0</td>\n",
              "    </tr>\n",
              "    <tr>\n",
              "      <th>3</th>\n",
              "      <td>46</td>\n",
              "      <td>0</td>\n",
              "      <td>0</td>\n",
              "      <td>0</td>\n",
              "      <td>1</td>\n",
              "      <td>1</td>\n",
              "      <td>0</td>\n",
              "      <td>1</td>\n",
              "      <td>0</td>\n",
              "      <td>tertiary</td>\n",
              "      <td>0</td>\n",
              "      <td>628</td>\n",
              "      <td>0</td>\n",
              "      <td>0</td>\n",
              "      <td>cellular</td>\n",
              "      <td>20</td>\n",
              "      <td>nov</td>\n",
              "      <td>5</td>\n",
              "      <td>-1</td>\n",
              "      <td>0</td>\n",
              "      <td>454.0</td>\n",
              "    </tr>\n",
              "    <tr>\n",
              "      <th>4</th>\n",
              "      <td>43</td>\n",
              "      <td>0</td>\n",
              "      <td>0</td>\n",
              "      <td>0</td>\n",
              "      <td>1</td>\n",
              "      <td>1</td>\n",
              "      <td>0</td>\n",
              "      <td>0</td>\n",
              "      <td>1</td>\n",
              "      <td>secondary</td>\n",
              "      <td>0</td>\n",
              "      <td>3723</td>\n",
              "      <td>1</td>\n",
              "      <td>0</td>\n",
              "      <td>cellular</td>\n",
              "      <td>11</td>\n",
              "      <td>aug</td>\n",
              "      <td>4</td>\n",
              "      <td>-1</td>\n",
              "      <td>0</td>\n",
              "      <td>134.0</td>\n",
              "    </tr>\n",
              "  </tbody>\n",
              "</table>\n",
              "</div>"
            ],
            "text/plain": [
              "   Age  Job_0  Job_1  Job_2  ...  Contacts  DaysPassed  Attempts  CallTime\n",
              "0   52      0      0      0  ...         4         371         5     165.0\n",
              "1   21      0      0      0  ...         1          -1         0     103.0\n",
              "2   37      0      0      0  ...         2         200         7     223.0\n",
              "3   46      0      0      0  ...         5          -1         0     454.0\n",
              "4   43      0      0      0  ...         4          -1         0     134.0\n",
              "\n",
              "[5 rows x 21 columns]"
            ]
          },
          "metadata": {},
          "execution_count": 422
        }
      ]
    },
    {
      "cell_type": "code",
      "metadata": {
        "colab": {
          "base_uri": "https://localhost:8080/"
        },
        "id": "yil1IgA3vxRZ",
        "outputId": "5ac3452f-b7a7-4685-b2c6-fd1c4e606ee3"
      },
      "source": [
        "#Education is a ordinal variable so will transform it accordingly.\n",
        "combine.Education.value_counts()"
      ],
      "execution_count": 423,
      "outputs": [
        {
          "output_type": "execute_result",
          "data": {
            "text/plain": [
              "secondary    2157\n",
              "tertiary     1282\n",
              "primary       561\n",
              "Name: Education, dtype: int64"
            ]
          },
          "metadata": {},
          "execution_count": 423
        }
      ]
    },
    {
      "cell_type": "code",
      "metadata": {
        "colab": {
          "base_uri": "https://localhost:8080/",
          "height": 257
        },
        "id": "7Zk4JAdiwIXb",
        "outputId": "37f6b9fa-250b-4e66-ba64-37606209e619"
      },
      "source": [
        "#Education conversion.\n",
        "enc = ce.OrdinalEncoder(cols=['Education'], return_df=True, mapping=[{'col':'Education','mapping':{'primary': 0,'secondary': 1, 'tertiary': 2}}])\n",
        "combine = enc.fit_transform(combine)\n",
        "combine.head(5)"
      ],
      "execution_count": 424,
      "outputs": [
        {
          "output_type": "stream",
          "text": [
            "/usr/local/lib/python3.7/dist-packages/category_encoders/utils.py:21: FutureWarning: is_categorical is deprecated and will be removed in a future version.  Use is_categorical_dtype instead\n",
            "  elif pd.api.types.is_categorical(cols):\n"
          ],
          "name": "stderr"
        },
        {
          "output_type": "execute_result",
          "data": {
            "text/html": [
              "<div>\n",
              "<style scoped>\n",
              "    .dataframe tbody tr th:only-of-type {\n",
              "        vertical-align: middle;\n",
              "    }\n",
              "\n",
              "    .dataframe tbody tr th {\n",
              "        vertical-align: top;\n",
              "    }\n",
              "\n",
              "    .dataframe thead th {\n",
              "        text-align: right;\n",
              "    }\n",
              "</style>\n",
              "<table border=\"1\" class=\"dataframe\">\n",
              "  <thead>\n",
              "    <tr style=\"text-align: right;\">\n",
              "      <th></th>\n",
              "      <th>Age</th>\n",
              "      <th>Job_0</th>\n",
              "      <th>Job_1</th>\n",
              "      <th>Job_2</th>\n",
              "      <th>Job_3</th>\n",
              "      <th>Job_4</th>\n",
              "      <th>MaritalStatus_0</th>\n",
              "      <th>MaritalStatus_1</th>\n",
              "      <th>MaritalStatus_2</th>\n",
              "      <th>Education</th>\n",
              "      <th>Default</th>\n",
              "      <th>Balance</th>\n",
              "      <th>HomeInsurance</th>\n",
              "      <th>Loan</th>\n",
              "      <th>Communication</th>\n",
              "      <th>DayLastContacted</th>\n",
              "      <th>MonthLastContacted</th>\n",
              "      <th>Contacts</th>\n",
              "      <th>DaysPassed</th>\n",
              "      <th>Attempts</th>\n",
              "      <th>CallTime</th>\n",
              "    </tr>\n",
              "  </thead>\n",
              "  <tbody>\n",
              "    <tr>\n",
              "      <th>0</th>\n",
              "      <td>52</td>\n",
              "      <td>0</td>\n",
              "      <td>0</td>\n",
              "      <td>0</td>\n",
              "      <td>0</td>\n",
              "      <td>1</td>\n",
              "      <td>0</td>\n",
              "      <td>0</td>\n",
              "      <td>1</td>\n",
              "      <td>2</td>\n",
              "      <td>0</td>\n",
              "      <td>751</td>\n",
              "      <td>0</td>\n",
              "      <td>0</td>\n",
              "      <td>cellular</td>\n",
              "      <td>14</td>\n",
              "      <td>may</td>\n",
              "      <td>4</td>\n",
              "      <td>371</td>\n",
              "      <td>5</td>\n",
              "      <td>165.0</td>\n",
              "    </tr>\n",
              "    <tr>\n",
              "      <th>1</th>\n",
              "      <td>21</td>\n",
              "      <td>0</td>\n",
              "      <td>0</td>\n",
              "      <td>0</td>\n",
              "      <td>1</td>\n",
              "      <td>0</td>\n",
              "      <td>0</td>\n",
              "      <td>0</td>\n",
              "      <td>1</td>\n",
              "      <td>1</td>\n",
              "      <td>0</td>\n",
              "      <td>2062</td>\n",
              "      <td>1</td>\n",
              "      <td>0</td>\n",
              "      <td>cellular</td>\n",
              "      <td>3</td>\n",
              "      <td>jun</td>\n",
              "      <td>1</td>\n",
              "      <td>-1</td>\n",
              "      <td>0</td>\n",
              "      <td>103.0</td>\n",
              "    </tr>\n",
              "    <tr>\n",
              "      <th>2</th>\n",
              "      <td>37</td>\n",
              "      <td>0</td>\n",
              "      <td>0</td>\n",
              "      <td>0</td>\n",
              "      <td>1</td>\n",
              "      <td>1</td>\n",
              "      <td>0</td>\n",
              "      <td>1</td>\n",
              "      <td>0</td>\n",
              "      <td>2</td>\n",
              "      <td>0</td>\n",
              "      <td>-1</td>\n",
              "      <td>1</td>\n",
              "      <td>0</td>\n",
              "      <td>cellular</td>\n",
              "      <td>2</td>\n",
              "      <td>feb</td>\n",
              "      <td>2</td>\n",
              "      <td>200</td>\n",
              "      <td>7</td>\n",
              "      <td>223.0</td>\n",
              "    </tr>\n",
              "    <tr>\n",
              "      <th>3</th>\n",
              "      <td>46</td>\n",
              "      <td>0</td>\n",
              "      <td>0</td>\n",
              "      <td>0</td>\n",
              "      <td>1</td>\n",
              "      <td>1</td>\n",
              "      <td>0</td>\n",
              "      <td>1</td>\n",
              "      <td>0</td>\n",
              "      <td>2</td>\n",
              "      <td>0</td>\n",
              "      <td>628</td>\n",
              "      <td>0</td>\n",
              "      <td>0</td>\n",
              "      <td>cellular</td>\n",
              "      <td>20</td>\n",
              "      <td>nov</td>\n",
              "      <td>5</td>\n",
              "      <td>-1</td>\n",
              "      <td>0</td>\n",
              "      <td>454.0</td>\n",
              "    </tr>\n",
              "    <tr>\n",
              "      <th>4</th>\n",
              "      <td>43</td>\n",
              "      <td>0</td>\n",
              "      <td>0</td>\n",
              "      <td>0</td>\n",
              "      <td>1</td>\n",
              "      <td>1</td>\n",
              "      <td>0</td>\n",
              "      <td>0</td>\n",
              "      <td>1</td>\n",
              "      <td>1</td>\n",
              "      <td>0</td>\n",
              "      <td>3723</td>\n",
              "      <td>1</td>\n",
              "      <td>0</td>\n",
              "      <td>cellular</td>\n",
              "      <td>11</td>\n",
              "      <td>aug</td>\n",
              "      <td>4</td>\n",
              "      <td>-1</td>\n",
              "      <td>0</td>\n",
              "      <td>134.0</td>\n",
              "    </tr>\n",
              "  </tbody>\n",
              "</table>\n",
              "</div>"
            ],
            "text/plain": [
              "   Age  Job_0  Job_1  Job_2  ...  Contacts  DaysPassed  Attempts  CallTime\n",
              "0   52      0      0      0  ...         4         371         5     165.0\n",
              "1   21      0      0      0  ...         1          -1         0     103.0\n",
              "2   37      0      0      0  ...         2         200         7     223.0\n",
              "3   46      0      0      0  ...         5          -1         0     454.0\n",
              "4   43      0      0      0  ...         4          -1         0     134.0\n",
              "\n",
              "[5 rows x 21 columns]"
            ]
          },
          "metadata": {},
          "execution_count": 424
        }
      ]
    },
    {
      "cell_type": "code",
      "metadata": {
        "colab": {
          "base_uri": "https://localhost:8080/"
        },
        "id": "xjMXLxemxDPk",
        "outputId": "69647bfd-e29a-4c73-cec6-2c417700bcb8"
      },
      "source": [
        "combine.Communication.value_counts()"
      ],
      "execution_count": 425,
      "outputs": [
        {
          "output_type": "execute_result",
          "data": {
            "text/plain": [
              "cellular     3733\n",
              "telephone     267\n",
              "Name: Communication, dtype: int64"
            ]
          },
          "metadata": {},
          "execution_count": 425
        }
      ]
    },
    {
      "cell_type": "code",
      "metadata": {
        "colab": {
          "base_uri": "https://localhost:8080/",
          "height": 257
        },
        "id": "X8ojguiWxYt2",
        "outputId": "1a58fe9e-42f3-47fc-cd0c-47f29e77c948"
      },
      "source": [
        "#Telephone communication has so less values almost 6.6% only. So binary encoding doesn't make much difference so just converting it as ordinal.\n",
        "enc = ce.OrdinalEncoder(cols=['Communication'], return_df=True, mapping=[{'col':'Communication','mapping':{'cellular': 1,'telephone': 0}}])\n",
        "combine = enc.fit_transform(combine)\n",
        "combine.head(5)"
      ],
      "execution_count": 426,
      "outputs": [
        {
          "output_type": "stream",
          "text": [
            "/usr/local/lib/python3.7/dist-packages/category_encoders/utils.py:21: FutureWarning: is_categorical is deprecated and will be removed in a future version.  Use is_categorical_dtype instead\n",
            "  elif pd.api.types.is_categorical(cols):\n"
          ],
          "name": "stderr"
        },
        {
          "output_type": "execute_result",
          "data": {
            "text/html": [
              "<div>\n",
              "<style scoped>\n",
              "    .dataframe tbody tr th:only-of-type {\n",
              "        vertical-align: middle;\n",
              "    }\n",
              "\n",
              "    .dataframe tbody tr th {\n",
              "        vertical-align: top;\n",
              "    }\n",
              "\n",
              "    .dataframe thead th {\n",
              "        text-align: right;\n",
              "    }\n",
              "</style>\n",
              "<table border=\"1\" class=\"dataframe\">\n",
              "  <thead>\n",
              "    <tr style=\"text-align: right;\">\n",
              "      <th></th>\n",
              "      <th>Age</th>\n",
              "      <th>Job_0</th>\n",
              "      <th>Job_1</th>\n",
              "      <th>Job_2</th>\n",
              "      <th>Job_3</th>\n",
              "      <th>Job_4</th>\n",
              "      <th>MaritalStatus_0</th>\n",
              "      <th>MaritalStatus_1</th>\n",
              "      <th>MaritalStatus_2</th>\n",
              "      <th>Education</th>\n",
              "      <th>Default</th>\n",
              "      <th>Balance</th>\n",
              "      <th>HomeInsurance</th>\n",
              "      <th>Loan</th>\n",
              "      <th>Communication</th>\n",
              "      <th>DayLastContacted</th>\n",
              "      <th>MonthLastContacted</th>\n",
              "      <th>Contacts</th>\n",
              "      <th>DaysPassed</th>\n",
              "      <th>Attempts</th>\n",
              "      <th>CallTime</th>\n",
              "    </tr>\n",
              "  </thead>\n",
              "  <tbody>\n",
              "    <tr>\n",
              "      <th>0</th>\n",
              "      <td>52</td>\n",
              "      <td>0</td>\n",
              "      <td>0</td>\n",
              "      <td>0</td>\n",
              "      <td>0</td>\n",
              "      <td>1</td>\n",
              "      <td>0</td>\n",
              "      <td>0</td>\n",
              "      <td>1</td>\n",
              "      <td>2</td>\n",
              "      <td>0</td>\n",
              "      <td>751</td>\n",
              "      <td>0</td>\n",
              "      <td>0</td>\n",
              "      <td>1</td>\n",
              "      <td>14</td>\n",
              "      <td>may</td>\n",
              "      <td>4</td>\n",
              "      <td>371</td>\n",
              "      <td>5</td>\n",
              "      <td>165.0</td>\n",
              "    </tr>\n",
              "    <tr>\n",
              "      <th>1</th>\n",
              "      <td>21</td>\n",
              "      <td>0</td>\n",
              "      <td>0</td>\n",
              "      <td>0</td>\n",
              "      <td>1</td>\n",
              "      <td>0</td>\n",
              "      <td>0</td>\n",
              "      <td>0</td>\n",
              "      <td>1</td>\n",
              "      <td>1</td>\n",
              "      <td>0</td>\n",
              "      <td>2062</td>\n",
              "      <td>1</td>\n",
              "      <td>0</td>\n",
              "      <td>1</td>\n",
              "      <td>3</td>\n",
              "      <td>jun</td>\n",
              "      <td>1</td>\n",
              "      <td>-1</td>\n",
              "      <td>0</td>\n",
              "      <td>103.0</td>\n",
              "    </tr>\n",
              "    <tr>\n",
              "      <th>2</th>\n",
              "      <td>37</td>\n",
              "      <td>0</td>\n",
              "      <td>0</td>\n",
              "      <td>0</td>\n",
              "      <td>1</td>\n",
              "      <td>1</td>\n",
              "      <td>0</td>\n",
              "      <td>1</td>\n",
              "      <td>0</td>\n",
              "      <td>2</td>\n",
              "      <td>0</td>\n",
              "      <td>-1</td>\n",
              "      <td>1</td>\n",
              "      <td>0</td>\n",
              "      <td>1</td>\n",
              "      <td>2</td>\n",
              "      <td>feb</td>\n",
              "      <td>2</td>\n",
              "      <td>200</td>\n",
              "      <td>7</td>\n",
              "      <td>223.0</td>\n",
              "    </tr>\n",
              "    <tr>\n",
              "      <th>3</th>\n",
              "      <td>46</td>\n",
              "      <td>0</td>\n",
              "      <td>0</td>\n",
              "      <td>0</td>\n",
              "      <td>1</td>\n",
              "      <td>1</td>\n",
              "      <td>0</td>\n",
              "      <td>1</td>\n",
              "      <td>0</td>\n",
              "      <td>2</td>\n",
              "      <td>0</td>\n",
              "      <td>628</td>\n",
              "      <td>0</td>\n",
              "      <td>0</td>\n",
              "      <td>1</td>\n",
              "      <td>20</td>\n",
              "      <td>nov</td>\n",
              "      <td>5</td>\n",
              "      <td>-1</td>\n",
              "      <td>0</td>\n",
              "      <td>454.0</td>\n",
              "    </tr>\n",
              "    <tr>\n",
              "      <th>4</th>\n",
              "      <td>43</td>\n",
              "      <td>0</td>\n",
              "      <td>0</td>\n",
              "      <td>0</td>\n",
              "      <td>1</td>\n",
              "      <td>1</td>\n",
              "      <td>0</td>\n",
              "      <td>0</td>\n",
              "      <td>1</td>\n",
              "      <td>1</td>\n",
              "      <td>0</td>\n",
              "      <td>3723</td>\n",
              "      <td>1</td>\n",
              "      <td>0</td>\n",
              "      <td>1</td>\n",
              "      <td>11</td>\n",
              "      <td>aug</td>\n",
              "      <td>4</td>\n",
              "      <td>-1</td>\n",
              "      <td>0</td>\n",
              "      <td>134.0</td>\n",
              "    </tr>\n",
              "  </tbody>\n",
              "</table>\n",
              "</div>"
            ],
            "text/plain": [
              "   Age  Job_0  Job_1  Job_2  ...  Contacts  DaysPassed  Attempts  CallTime\n",
              "0   52      0      0      0  ...         4         371         5     165.0\n",
              "1   21      0      0      0  ...         1          -1         0     103.0\n",
              "2   37      0      0      0  ...         2         200         7     223.0\n",
              "3   46      0      0      0  ...         5          -1         0     454.0\n",
              "4   43      0      0      0  ...         4          -1         0     134.0\n",
              "\n",
              "[5 rows x 21 columns]"
            ]
          },
          "metadata": {},
          "execution_count": 426
        }
      ]
    },
    {
      "cell_type": "code",
      "metadata": {
        "id": "zAFpKrN-x_38"
      },
      "source": [
        "#MonthLastContacted is not needed variable as the days last contacted is given.\n",
        "#So we will remove this column.\n",
        "combine = combine.drop(columns=\"MonthLastContacted\")"
      ],
      "execution_count": 427,
      "outputs": []
    },
    {
      "cell_type": "code",
      "metadata": {
        "colab": {
          "base_uri": "https://localhost:8080/"
        },
        "id": "vuaWmpjGq2QP",
        "outputId": "5a4445b2-c7b5-45b6-b062-2c9d8f321bb6"
      },
      "source": [
        "combine.info()"
      ],
      "execution_count": 428,
      "outputs": [
        {
          "output_type": "stream",
          "text": [
            "<class 'pandas.core.frame.DataFrame'>\n",
            "Int64Index: 4000 entries, 0 to 799\n",
            "Data columns (total 20 columns):\n",
            " #   Column            Non-Null Count  Dtype  \n",
            "---  ------            --------------  -----  \n",
            " 0   Age               4000 non-null   int64  \n",
            " 1   Job_0             4000 non-null   int64  \n",
            " 2   Job_1             4000 non-null   int64  \n",
            " 3   Job_2             4000 non-null   int64  \n",
            " 4   Job_3             4000 non-null   int64  \n",
            " 5   Job_4             4000 non-null   int64  \n",
            " 6   MaritalStatus_0   4000 non-null   int64  \n",
            " 7   MaritalStatus_1   4000 non-null   int64  \n",
            " 8   MaritalStatus_2   4000 non-null   int64  \n",
            " 9   Education         4000 non-null   int64  \n",
            " 10  Default           4000 non-null   int64  \n",
            " 11  Balance           4000 non-null   int64  \n",
            " 12  HomeInsurance     4000 non-null   int64  \n",
            " 13  Loan              4000 non-null   int64  \n",
            " 14  Communication     4000 non-null   int64  \n",
            " 15  DayLastContacted  4000 non-null   int64  \n",
            " 16  Contacts          4000 non-null   int64  \n",
            " 17  DaysPassed        4000 non-null   int64  \n",
            " 18  Attempts          4000 non-null   int64  \n",
            " 19  CallTime          4000 non-null   float64\n",
            "dtypes: float64(1), int64(19)\n",
            "memory usage: 656.2 KB\n"
          ],
          "name": "stdout"
        }
      ]
    },
    {
      "cell_type": "markdown",
      "metadata": {
        "id": "fUVgIkmfIHTi"
      },
      "source": [
        "## Data Standardization"
      ]
    },
    {
      "cell_type": "code",
      "metadata": {
        "colab": {
          "base_uri": "https://localhost:8080/",
          "height": 283
        },
        "id": "NMr0Ht0DJMNW",
        "outputId": "d992445e-9bab-40c9-db4c-71c78c916fe1"
      },
      "source": [
        "combine.boxplot()"
      ],
      "execution_count": 429,
      "outputs": [
        {
          "output_type": "execute_result",
          "data": {
            "text/plain": [
              "<matplotlib.axes._subplots.AxesSubplot at 0x7f5f411b5c50>"
            ]
          },
          "metadata": {},
          "execution_count": 429
        },
        {
          "output_type": "display_data",
          "data": {
            "image/png": "[encoded data removed]",
            "text/plain": [
              "<Figure size 432x288 with 1 Axes>"
            ]
          },
          "metadata": {
            "needs_background": "light"
          }
        }
      ]
    },
    {
      "cell_type": "code",
      "metadata": {
        "colab": {
          "base_uri": "https://localhost:8080/",
          "height": 223
        },
        "id": "IwOQdYDfIZgf",
        "outputId": "add717b7-d179-4e0e-b60c-af5d7bcbe989"
      },
      "source": [
        "combine.head(5)"
      ],
      "execution_count": 459,
      "outputs": [
        {
          "output_type": "execute_result",
          "data": {
            "text/html": [
              "<div>\n",
              "<style scoped>\n",
              "    .dataframe tbody tr th:only-of-type {\n",
              "        vertical-align: middle;\n",
              "    }\n",
              "\n",
              "    .dataframe tbody tr th {\n",
              "        vertical-align: top;\n",
              "    }\n",
              "\n",
              "    .dataframe thead th {\n",
              "        text-align: right;\n",
              "    }\n",
              "</style>\n",
              "<table border=\"1\" class=\"dataframe\">\n",
              "  <thead>\n",
              "    <tr style=\"text-align: right;\">\n",
              "      <th></th>\n",
              "      <th>Age</th>\n",
              "      <th>Job_0</th>\n",
              "      <th>Job_1</th>\n",
              "      <th>Job_2</th>\n",
              "      <th>Job_3</th>\n",
              "      <th>Job_4</th>\n",
              "      <th>MaritalStatus_0</th>\n",
              "      <th>MaritalStatus_1</th>\n",
              "      <th>MaritalStatus_2</th>\n",
              "      <th>Education</th>\n",
              "      <th>Default</th>\n",
              "      <th>Balance</th>\n",
              "      <th>HomeInsurance</th>\n",
              "      <th>Loan</th>\n",
              "      <th>Communication</th>\n",
              "      <th>DayLastContacted</th>\n",
              "      <th>Contacts</th>\n",
              "      <th>DaysPassed</th>\n",
              "      <th>Attempts</th>\n",
              "      <th>CallTime</th>\n",
              "    </tr>\n",
              "  </thead>\n",
              "  <tbody>\n",
              "    <tr>\n",
              "      <th>0</th>\n",
              "      <td>0.933889</td>\n",
              "      <td>0</td>\n",
              "      <td>0</td>\n",
              "      <td>0</td>\n",
              "      <td>0</td>\n",
              "      <td>1</td>\n",
              "      <td>0</td>\n",
              "      <td>0</td>\n",
              "      <td>1</td>\n",
              "      <td>1.252644</td>\n",
              "      <td>0</td>\n",
              "      <td>-0.222710</td>\n",
              "      <td>0</td>\n",
              "      <td>0</td>\n",
              "      <td>1</td>\n",
              "      <td>-0.204321</td>\n",
              "      <td>0.454579</td>\n",
              "      <td>3.021349</td>\n",
              "      <td>2.060492</td>\n",
              "      <td>-0.543096</td>\n",
              "    </tr>\n",
              "    <tr>\n",
              "      <th>1</th>\n",
              "      <td>-1.750384</td>\n",
              "      <td>0</td>\n",
              "      <td>0</td>\n",
              "      <td>0</td>\n",
              "      <td>1</td>\n",
              "      <td>0</td>\n",
              "      <td>0</td>\n",
              "      <td>0</td>\n",
              "      <td>1</td>\n",
              "      <td>-0.275437</td>\n",
              "      <td>0</td>\n",
              "      <td>0.150687</td>\n",
              "      <td>1</td>\n",
              "      <td>0</td>\n",
              "      <td>1</td>\n",
              "      <td>-1.510074</td>\n",
              "      <td>-0.524590</td>\n",
              "      <td>-0.465975</td>\n",
              "      <td>-0.345220</td>\n",
              "      <td>-0.724280</td>\n",
              "    </tr>\n",
              "    <tr>\n",
              "      <th>2</th>\n",
              "      <td>-0.364953</td>\n",
              "      <td>0</td>\n",
              "      <td>0</td>\n",
              "      <td>0</td>\n",
              "      <td>1</td>\n",
              "      <td>1</td>\n",
              "      <td>0</td>\n",
              "      <td>1</td>\n",
              "      <td>0</td>\n",
              "      <td>1.252644</td>\n",
              "      <td>0</td>\n",
              "      <td>-0.436893</td>\n",
              "      <td>1</td>\n",
              "      <td>0</td>\n",
              "      <td>1</td>\n",
              "      <td>-1.628779</td>\n",
              "      <td>-0.198200</td>\n",
              "      <td>1.418305</td>\n",
              "      <td>3.022776</td>\n",
              "      <td>-0.373601</td>\n",
              "    </tr>\n",
              "    <tr>\n",
              "      <th>3</th>\n",
              "      <td>0.414352</td>\n",
              "      <td>0</td>\n",
              "      <td>0</td>\n",
              "      <td>0</td>\n",
              "      <td>1</td>\n",
              "      <td>1</td>\n",
              "      <td>0</td>\n",
              "      <td>1</td>\n",
              "      <td>0</td>\n",
              "      <td>1.252644</td>\n",
              "      <td>0</td>\n",
              "      <td>-0.257742</td>\n",
              "      <td>0</td>\n",
              "      <td>0</td>\n",
              "      <td>1</td>\n",
              "      <td>0.507908</td>\n",
              "      <td>0.780969</td>\n",
              "      <td>-0.465975</td>\n",
              "      <td>-0.345220</td>\n",
              "      <td>0.301455</td>\n",
              "    </tr>\n",
              "    <tr>\n",
              "      <th>4</th>\n",
              "      <td>0.154584</td>\n",
              "      <td>0</td>\n",
              "      <td>0</td>\n",
              "      <td>0</td>\n",
              "      <td>1</td>\n",
              "      <td>1</td>\n",
              "      <td>0</td>\n",
              "      <td>0</td>\n",
              "      <td>1</td>\n",
              "      <td>-0.275437</td>\n",
              "      <td>0</td>\n",
              "      <td>0.623769</td>\n",
              "      <td>1</td>\n",
              "      <td>0</td>\n",
              "      <td>1</td>\n",
              "      <td>-0.560435</td>\n",
              "      <td>0.454579</td>\n",
              "      <td>-0.465975</td>\n",
              "      <td>-0.345220</td>\n",
              "      <td>-0.633688</td>\n",
              "    </tr>\n",
              "  </tbody>\n",
              "</table>\n",
              "</div>"
            ],
            "text/plain": [
              "        Age  Job_0  Job_1  Job_2  ...  Contacts  DaysPassed  Attempts  CallTime\n",
              "0  0.933889      0      0      0  ...  0.454579    3.021349  2.060492 -0.543096\n",
              "1 -1.750384      0      0      0  ... -0.524590   -0.465975 -0.345220 -0.724280\n",
              "2 -0.364953      0      0      0  ... -0.198200    1.418305  3.022776 -0.373601\n",
              "3  0.414352      0      0      0  ...  0.780969   -0.465975 -0.345220  0.301455\n",
              "4  0.154584      0      0      0  ...  0.454579   -0.465975 -0.345220 -0.633688\n",
              "\n",
              "[5 rows x 20 columns]"
            ]
          },
          "metadata": {},
          "execution_count": 459
        }
      ]
    },
    {
      "cell_type": "code",
      "metadata": {
        "id": "lhgu2j7GINn-"
      },
      "source": [
        "from scipy.stats import zscore\n",
        "combine_scaled = combine\n",
        "combine_scaled['Age'] = zscore(combine_scaled['Age'])\n",
        "combine_scaled['Education'] = zscore(combine_scaled['Education'])\n",
        "combine_scaled['Balance'] = zscore(combine_scaled['Balance'])\n",
        "combine_scaled['DayLastContacted'] = zscore(combine_scaled['DayLastContacted'])\n",
        "combine_scaled['Contacts'] = zscore(combine_scaled['Contacts'])\n",
        "combine_scaled['DaysPassed'] = zscore(combine_scaled['DaysPassed'])\n",
        "combine_scaled['Attempts'] = zscore(combine_scaled['Attempts'])\n",
        "combine_scaled['CallTime'] = zscore(combine_scaled['CallTime'])"
      ],
      "execution_count": 475,
      "outputs": []
    },
    {
      "cell_type": "code",
      "metadata": {
        "colab": {
          "base_uri": "https://localhost:8080/",
          "height": 223
        },
        "id": "NN5T9p3kI3yA",
        "outputId": "efd49a93-1cf7-45e8-aade-63b4c40b9b32"
      },
      "source": [
        "combine_scaled.head(5)"
      ],
      "execution_count": 476,
      "outputs": [
        {
          "output_type": "execute_result",
          "data": {
            "text/html": [
              "<div>\n",
              "<style scoped>\n",
              "    .dataframe tbody tr th:only-of-type {\n",
              "        vertical-align: middle;\n",
              "    }\n",
              "\n",
              "    .dataframe tbody tr th {\n",
              "        vertical-align: top;\n",
              "    }\n",
              "\n",
              "    .dataframe thead th {\n",
              "        text-align: right;\n",
              "    }\n",
              "</style>\n",
              "<table border=\"1\" class=\"dataframe\">\n",
              "  <thead>\n",
              "    <tr style=\"text-align: right;\">\n",
              "      <th></th>\n",
              "      <th>Age</th>\n",
              "      <th>Job_0</th>\n",
              "      <th>Job_1</th>\n",
              "      <th>Job_2</th>\n",
              "      <th>Job_3</th>\n",
              "      <th>Job_4</th>\n",
              "      <th>MaritalStatus_0</th>\n",
              "      <th>MaritalStatus_1</th>\n",
              "      <th>MaritalStatus_2</th>\n",
              "      <th>Education</th>\n",
              "      <th>Default</th>\n",
              "      <th>Balance</th>\n",
              "      <th>HomeInsurance</th>\n",
              "      <th>Loan</th>\n",
              "      <th>Communication</th>\n",
              "      <th>DayLastContacted</th>\n",
              "      <th>Contacts</th>\n",
              "      <th>DaysPassed</th>\n",
              "      <th>Attempts</th>\n",
              "      <th>CallTime</th>\n",
              "    </tr>\n",
              "  </thead>\n",
              "  <tbody>\n",
              "    <tr>\n",
              "      <th>0</th>\n",
              "      <td>0.933889</td>\n",
              "      <td>0</td>\n",
              "      <td>0</td>\n",
              "      <td>0</td>\n",
              "      <td>0</td>\n",
              "      <td>1</td>\n",
              "      <td>0</td>\n",
              "      <td>0</td>\n",
              "      <td>1</td>\n",
              "      <td>1.252644</td>\n",
              "      <td>0</td>\n",
              "      <td>-0.222710</td>\n",
              "      <td>0</td>\n",
              "      <td>0</td>\n",
              "      <td>1</td>\n",
              "      <td>-0.204321</td>\n",
              "      <td>0.454579</td>\n",
              "      <td>3.021349</td>\n",
              "      <td>2.060492</td>\n",
              "      <td>-0.543096</td>\n",
              "    </tr>\n",
              "    <tr>\n",
              "      <th>1</th>\n",
              "      <td>-1.750384</td>\n",
              "      <td>0</td>\n",
              "      <td>0</td>\n",
              "      <td>0</td>\n",
              "      <td>1</td>\n",
              "      <td>0</td>\n",
              "      <td>0</td>\n",
              "      <td>0</td>\n",
              "      <td>1</td>\n",
              "      <td>-0.275437</td>\n",
              "      <td>0</td>\n",
              "      <td>0.150687</td>\n",
              "      <td>1</td>\n",
              "      <td>0</td>\n",
              "      <td>1</td>\n",
              "      <td>-1.510074</td>\n",
              "      <td>-0.524590</td>\n",
              "      <td>-0.465975</td>\n",
              "      <td>-0.345220</td>\n",
              "      <td>-0.724280</td>\n",
              "    </tr>\n",
              "    <tr>\n",
              "      <th>2</th>\n",
              "      <td>-0.364953</td>\n",
              "      <td>0</td>\n",
              "      <td>0</td>\n",
              "      <td>0</td>\n",
              "      <td>1</td>\n",
              "      <td>1</td>\n",
              "      <td>0</td>\n",
              "      <td>1</td>\n",
              "      <td>0</td>\n",
              "      <td>1.252644</td>\n",
              "      <td>0</td>\n",
              "      <td>-0.436893</td>\n",
              "      <td>1</td>\n",
              "      <td>0</td>\n",
              "      <td>1</td>\n",
              "      <td>-1.628779</td>\n",
              "      <td>-0.198200</td>\n",
              "      <td>1.418305</td>\n",
              "      <td>3.022776</td>\n",
              "      <td>-0.373601</td>\n",
              "    </tr>\n",
              "    <tr>\n",
              "      <th>3</th>\n",
              "      <td>0.414352</td>\n",
              "      <td>0</td>\n",
              "      <td>0</td>\n",
              "      <td>0</td>\n",
              "      <td>1</td>\n",
              "      <td>1</td>\n",
              "      <td>0</td>\n",
              "      <td>1</td>\n",
              "      <td>0</td>\n",
              "      <td>1.252644</td>\n",
              "      <td>0</td>\n",
              "      <td>-0.257742</td>\n",
              "      <td>0</td>\n",
              "      <td>0</td>\n",
              "      <td>1</td>\n",
              "      <td>0.507908</td>\n",
              "      <td>0.780969</td>\n",
              "      <td>-0.465975</td>\n",
              "      <td>-0.345220</td>\n",
              "      <td>0.301455</td>\n",
              "    </tr>\n",
              "    <tr>\n",
              "      <th>4</th>\n",
              "      <td>0.154584</td>\n",
              "      <td>0</td>\n",
              "      <td>0</td>\n",
              "      <td>0</td>\n",
              "      <td>1</td>\n",
              "      <td>1</td>\n",
              "      <td>0</td>\n",
              "      <td>0</td>\n",
              "      <td>1</td>\n",
              "      <td>-0.275437</td>\n",
              "      <td>0</td>\n",
              "      <td>0.623769</td>\n",
              "      <td>1</td>\n",
              "      <td>0</td>\n",
              "      <td>1</td>\n",
              "      <td>-0.560435</td>\n",
              "      <td>0.454579</td>\n",
              "      <td>-0.465975</td>\n",
              "      <td>-0.345220</td>\n",
              "      <td>-0.633688</td>\n",
              "    </tr>\n",
              "  </tbody>\n",
              "</table>\n",
              "</div>"
            ],
            "text/plain": [
              "        Age  Job_0  Job_1  Job_2  ...  Contacts  DaysPassed  Attempts  CallTime\n",
              "0  0.933889      0      0      0  ...  0.454579    3.021349  2.060492 -0.543096\n",
              "1 -1.750384      0      0      0  ... -0.524590   -0.465975 -0.345220 -0.724280\n",
              "2 -0.364953      0      0      0  ... -0.198200    1.418305  3.022776 -0.373601\n",
              "3  0.414352      0      0      0  ...  0.780969   -0.465975 -0.345220  0.301455\n",
              "4  0.154584      0      0      0  ...  0.454579   -0.465975 -0.345220 -0.633688\n",
              "\n",
              "[5 rows x 20 columns]"
            ]
          },
          "metadata": {},
          "execution_count": 476
        }
      ]
    },
    {
      "cell_type": "code",
      "metadata": {
        "colab": {
          "base_uri": "https://localhost:8080/",
          "height": 283
        },
        "id": "zyrfPHE80hqG",
        "outputId": "e14340fd-3940-4953-d67f-787912b9e7cb"
      },
      "source": [
        "combine_scaled.boxplot()"
      ],
      "execution_count": 536,
      "outputs": [
        {
          "output_type": "execute_result",
          "data": {
            "text/plain": [
              "<matplotlib.axes._subplots.AxesSubplot at 0x7f5f3d800950>"
            ]
          },
          "metadata": {},
          "execution_count": 536
        },
        {
          "output_type": "display_data",
          "data": {
            "image/png": "[encoded data removed]",
            "text/plain": [
              "<Figure size 432x288 with 1 Axes>"
            ]
          },
          "metadata": {
            "needs_background": "light"
          }
        }
      ]
    },
    {
      "cell_type": "code",
      "metadata": {
        "id": "1V-UU6Icd0cs"
      },
      "source": [
        "train = combine_scaled.head(3200)\n",
        "test = combine_scaled.tail(800)"
      ],
      "execution_count": 508,
      "outputs": []
    },
    {
      "cell_type": "code",
      "metadata": {
        "colab": {
          "base_uri": "https://localhost:8080/"
        },
        "id": "WYsQ7i0qcleD",
        "outputId": "3330953d-1a42-4cac-b797-86e0d0034381"
      },
      "source": [
        "from sklearn.feature_selection import SelectKBest, f_classif\n",
        "#Feature selected variables\n",
        "selector = SelectKBest(f_classif, k=15)\n",
        "\n",
        "selected_data = selector.fit_transform(train, Insurance)\n",
        "selected_data"
      ],
      "execution_count": 514,
      "outputs": [
        {
          "output_type": "stream",
          "text": [
            "/usr/local/lib/python3.7/dist-packages/sklearn/feature_selection/_univariate_selection.py:114: UserWarning: Features [1 6] are constant.\n",
            "  UserWarning)\n",
            "/usr/local/lib/python3.7/dist-packages/sklearn/feature_selection/_univariate_selection.py:115: RuntimeWarning: invalid value encountered in true_divide\n",
            "  f = msb / msw\n"
          ],
          "name": "stderr"
        },
        {
          "output_type": "execute_result",
          "data": {
            "text/plain": [
              "array([[ 0.93388893,  0.        ,  1.        , ...,  3.02134913,\n",
              "         2.06049181, -0.54309577],\n",
              "       [-1.7503842 ,  0.        ,  0.        , ..., -0.46597493,\n",
              "        -0.34521959, -0.72427965],\n",
              "       [-0.36495291,  0.        ,  1.        , ...,  1.41830501,\n",
              "         3.02277637, -0.37360117],\n",
              "       ...,\n",
              "       [-0.36495291,  1.        ,  0.        , ..., -0.46597493,\n",
              "        -0.34521959, -0.81487159],\n",
              "       [-1.05766856,  0.        ,  1.        , ..., -0.46597493,\n",
              "        -0.34521959,  0.16995048],\n",
              "       [-0.10518454,  1.        ,  0.        , ...,  0.01212595,\n",
              "         3.50391865,  0.70473517]])"
            ]
          },
          "metadata": {},
          "execution_count": 514
        }
      ]
    },
    {
      "cell_type": "code",
      "metadata": {
        "colab": {
          "base_uri": "https://localhost:8080/",
          "height": 223
        },
        "id": "_MwTgFzDeD0B",
        "outputId": "90e3916e-a900-43e7-cb29-1240a8bf9476"
      },
      "source": [
        "selected_features = pd.DataFrame(selector.inverse_transform(selected_data), \n",
        "                                 index=train.index, \n",
        "                                 columns=train.columns)\n",
        "\n",
        "selected_columns = selected_features.columns[selected_features.var() != 0]\n",
        "selected_features[selected_columns].head()"
      ],
      "execution_count": 515,
      "outputs": [
        {
          "output_type": "execute_result",
          "data": {
            "text/html": [
              "<div>\n",
              "<style scoped>\n",
              "    .dataframe tbody tr th:only-of-type {\n",
              "        vertical-align: middle;\n",
              "    }\n",
              "\n",
              "    .dataframe tbody tr th {\n",
              "        vertical-align: top;\n",
              "    }\n",
              "\n",
              "    .dataframe thead th {\n",
              "        text-align: right;\n",
              "    }\n",
              "</style>\n",
              "<table border=\"1\" class=\"dataframe\">\n",
              "  <thead>\n",
              "    <tr style=\"text-align: right;\">\n",
              "      <th></th>\n",
              "      <th>Age</th>\n",
              "      <th>Job_2</th>\n",
              "      <th>Job_4</th>\n",
              "      <th>MaritalStatus_1</th>\n",
              "      <th>MaritalStatus_2</th>\n",
              "      <th>Education</th>\n",
              "      <th>Default</th>\n",
              "      <th>Balance</th>\n",
              "      <th>HomeInsurance</th>\n",
              "      <th>Loan</th>\n",
              "      <th>DayLastContacted</th>\n",
              "      <th>Contacts</th>\n",
              "      <th>DaysPassed</th>\n",
              "      <th>Attempts</th>\n",
              "      <th>CallTime</th>\n",
              "    </tr>\n",
              "  </thead>\n",
              "  <tbody>\n",
              "    <tr>\n",
              "      <th>0</th>\n",
              "      <td>0.933889</td>\n",
              "      <td>0.0</td>\n",
              "      <td>1.0</td>\n",
              "      <td>0.0</td>\n",
              "      <td>1.0</td>\n",
              "      <td>1.252644</td>\n",
              "      <td>0.0</td>\n",
              "      <td>-0.222710</td>\n",
              "      <td>0.0</td>\n",
              "      <td>0.0</td>\n",
              "      <td>-0.204321</td>\n",
              "      <td>0.454579</td>\n",
              "      <td>3.021349</td>\n",
              "      <td>2.060492</td>\n",
              "      <td>-0.543096</td>\n",
              "    </tr>\n",
              "    <tr>\n",
              "      <th>1</th>\n",
              "      <td>-1.750384</td>\n",
              "      <td>0.0</td>\n",
              "      <td>0.0</td>\n",
              "      <td>0.0</td>\n",
              "      <td>1.0</td>\n",
              "      <td>-0.275437</td>\n",
              "      <td>0.0</td>\n",
              "      <td>0.150687</td>\n",
              "      <td>1.0</td>\n",
              "      <td>0.0</td>\n",
              "      <td>-1.510074</td>\n",
              "      <td>-0.524590</td>\n",
              "      <td>-0.465975</td>\n",
              "      <td>-0.345220</td>\n",
              "      <td>-0.724280</td>\n",
              "    </tr>\n",
              "    <tr>\n",
              "      <th>2</th>\n",
              "      <td>-0.364953</td>\n",
              "      <td>0.0</td>\n",
              "      <td>1.0</td>\n",
              "      <td>1.0</td>\n",
              "      <td>0.0</td>\n",
              "      <td>1.252644</td>\n",
              "      <td>0.0</td>\n",
              "      <td>-0.436893</td>\n",
              "      <td>1.0</td>\n",
              "      <td>0.0</td>\n",
              "      <td>-1.628779</td>\n",
              "      <td>-0.198200</td>\n",
              "      <td>1.418305</td>\n",
              "      <td>3.022776</td>\n",
              "      <td>-0.373601</td>\n",
              "    </tr>\n",
              "    <tr>\n",
              "      <th>3</th>\n",
              "      <td>0.414352</td>\n",
              "      <td>0.0</td>\n",
              "      <td>1.0</td>\n",
              "      <td>1.0</td>\n",
              "      <td>0.0</td>\n",
              "      <td>1.252644</td>\n",
              "      <td>0.0</td>\n",
              "      <td>-0.257742</td>\n",
              "      <td>0.0</td>\n",
              "      <td>0.0</td>\n",
              "      <td>0.507908</td>\n",
              "      <td>0.780969</td>\n",
              "      <td>-0.465975</td>\n",
              "      <td>-0.345220</td>\n",
              "      <td>0.301455</td>\n",
              "    </tr>\n",
              "    <tr>\n",
              "      <th>4</th>\n",
              "      <td>0.154584</td>\n",
              "      <td>0.0</td>\n",
              "      <td>1.0</td>\n",
              "      <td>0.0</td>\n",
              "      <td>1.0</td>\n",
              "      <td>-0.275437</td>\n",
              "      <td>0.0</td>\n",
              "      <td>0.623769</td>\n",
              "      <td>1.0</td>\n",
              "      <td>0.0</td>\n",
              "      <td>-0.560435</td>\n",
              "      <td>0.454579</td>\n",
              "      <td>-0.465975</td>\n",
              "      <td>-0.345220</td>\n",
              "      <td>-0.633688</td>\n",
              "    </tr>\n",
              "  </tbody>\n",
              "</table>\n",
              "</div>"
            ],
            "text/plain": [
              "        Age  Job_2  Job_4  ...  DaysPassed  Attempts  CallTime\n",
              "0  0.933889    0.0    1.0  ...    3.021349  2.060492 -0.543096\n",
              "1 -1.750384    0.0    0.0  ...   -0.465975 -0.345220 -0.724280\n",
              "2 -0.364953    0.0    1.0  ...    1.418305  3.022776 -0.373601\n",
              "3  0.414352    0.0    1.0  ...   -0.465975 -0.345220  0.301455\n",
              "4  0.154584    0.0    1.0  ...   -0.465975 -0.345220 -0.633688\n",
              "\n",
              "[5 rows x 15 columns]"
            ]
          },
          "metadata": {},
          "execution_count": 515
        }
      ]
    },
    {
      "cell_type": "markdown",
      "metadata": {
        "id": "mnXk_PEUJVcd"
      },
      "source": [
        "# Regression Modeling"
      ]
    },
    {
      "cell_type": "code",
      "metadata": {
        "id": "-7N3-5VNJZQO"
      },
      "source": [
        "#Seperating training and testing data\n",
        "X_train, X_test, Y_train, Y_test = train_test_split(selected_features, Insurance, test_size = 0.3, random_state = 5)"
      ],
      "execution_count": 516,
      "outputs": []
    },
    {
      "cell_type": "code",
      "metadata": {
        "id": "1PHq56GV3NZK"
      },
      "source": [
        "# Setup the machine learning model\n",
        "from sklearn.linear_model import LogisticRegression\n",
        "\n",
        "reg = LogisticRegression(solver='lbfgs', max_iter=10000)\n",
        "\n",
        "# Fit the machine learning model\n",
        "reg.fit(X_train,Y_train)\n",
        "\n",
        "# Predict from the machine leanring model\n",
        "Y_predict = reg.predict(X_test)\n",
        "Y_train_predict = reg.predict(X_train)"
      ],
      "execution_count": 517,
      "outputs": []
    },
    {
      "cell_type": "code",
      "metadata": {
        "colab": {
          "base_uri": "https://localhost:8080/"
        },
        "id": "5lfmGp8a-yrv",
        "outputId": "9c145366-bf4b-403a-ce6f-1352f21152a7"
      },
      "source": [
        "from sklearn.metrics import accuracy_score\n",
        "\n",
        "# Error calculation \n",
        "error_train = accuracy_score(Y_train_predict, Y_train)\n",
        "print('Training Classif Accuracy: ' + str(error_train))\n",
        "error_val = accuracy_score(Y_predict, Y_test)\n",
        "print('Validation Classif Accuracy: ' + str(error_val))"
      ],
      "execution_count": 518,
      "outputs": [
        {
          "output_type": "stream",
          "text": [
            "Training Classif Accuracy: 0.7892857142857143\n",
            "Validation Classif Accuracy: 0.7864583333333334\n"
          ],
          "name": "stdout"
        }
      ]
    },
    {
      "cell_type": "code",
      "metadata": {
        "colab": {
          "base_uri": "https://localhost:8080/"
        },
        "id": "09u5u91MJu5P",
        "outputId": "fa219cbd-1c7b-48ab-858d-17ad17d8317d"
      },
      "source": [
        "from sklearn.metrics import roc_auc_score, roc_curve\n",
        "import matplotlib.pyplot as plt\n",
        "\n",
        "auc = roc_auc_score(Y_test, Y_predict)\n",
        "print(auc)"
      ],
      "execution_count": 519,
      "outputs": [
        {
          "output_type": "stream",
          "text": [
            "0.7666126674841962\n"
          ],
          "name": "stdout"
        }
      ]
    },
    {
      "cell_type": "markdown",
      "metadata": {
        "id": "8vXgumOD7AFG"
      },
      "source": [
        "# Neural Network"
      ]
    },
    {
      "cell_type": "code",
      "metadata": {
        "id": "lhEB3DXiA-Z8"
      },
      "source": [
        "import sklearn as sk\n",
        "from sklearn.neural_network import MLPClassifier\n",
        "\n",
        "NN = MLPClassifier(solver='lbfgs', alpha=1e-5, hidden_layer_sizes=(5, 2), random_state=1, max_iter=10000)\n",
        "NN.fit(X_train, Y_train)\n",
        "\n",
        "Y_predict = NN.predict(X_test)\n",
        "Y_train_predict = NN.predict(X_train)"
      ],
      "execution_count": 523,
      "outputs": []
    },
    {
      "cell_type": "code",
      "metadata": {
        "colab": {
          "base_uri": "https://localhost:8080/"
        },
        "id": "SbOtIriVDq7l",
        "outputId": "4eafe667-cff4-41fb-8561-816fe4376bb5"
      },
      "source": [
        "# Error calculation \n",
        "error_train = accuracy_score(Y_train_predict, Y_train)\n",
        "print('Training Classif Accuracy: ' + str(error_train))\n",
        "error_val = accuracy_score(Y_predict, Y_test)\n",
        "print('Validation Classif Accuracy: ' + str(error_val))"
      ],
      "execution_count": 524,
      "outputs": [
        {
          "output_type": "stream",
          "text": [
            "Training Classif Accuracy: 0.8258928571428571\n",
            "Validation Classif Accuracy: 0.8\n"
          ],
          "name": "stdout"
        }
      ]
    },
    {
      "cell_type": "code",
      "metadata": {
        "colab": {
          "base_uri": "https://localhost:8080/"
        },
        "id": "XZtyP4ZtJ4Tl",
        "outputId": "d6a86f46-64e1-43b7-8b99-327e9d32f33f"
      },
      "source": [
        "auc = roc_auc_score(Y_test, Y_predict)\n",
        "print(auc)"
      ],
      "execution_count": 525,
      "outputs": [
        {
          "output_type": "stream",
          "text": [
            "0.7919236529994433\n"
          ],
          "name": "stdout"
        }
      ]
    },
    {
      "cell_type": "markdown",
      "metadata": {
        "id": "1OGtUV8O8HvA"
      },
      "source": [
        "# k-fold cross validation"
      ]
    },
    {
      "cell_type": "code",
      "metadata": {
        "colab": {
          "base_uri": "https://localhost:8080/"
        },
        "id": "4bPBrt9J_gYB",
        "outputId": "0701bdb1-ccfd-4f77-8076-27e8c0cbc5d2"
      },
      "source": [
        "from sklearn import model_selection\n",
        "k = 10 # use 10-Fold cross validation with logistic regression\n",
        "kfold = model_selection.KFold(n_splits=k, random_state=2)\n",
        "model = LogisticRegression()"
      ],
      "execution_count": 526,
      "outputs": [
        {
          "output_type": "stream",
          "text": [
            "/usr/local/lib/python3.7/dist-packages/sklearn/model_selection/_split.py:296: FutureWarning: Setting a random_state has no effect since shuffle is False. This will raise an error in 0.24. You should leave random_state to its default (None), or set shuffle=True.\n",
            "  FutureWarning\n"
          ],
          "name": "stderr"
        }
      ]
    },
    {
      "cell_type": "code",
      "metadata": {
        "colab": {
          "base_uri": "https://localhost:8080/"
        },
        "id": "-Ex9nlcWELAh",
        "outputId": "8b0fb635-491a-4c77-af28-c8d1bfcf9618"
      },
      "source": [
        "# Classification accuracy\n",
        "scoring = 'accuracy'\n",
        "results = model_selection.cross_val_score(model, X_train, Y_train, cv=kfold, scoring=scoring)\n",
        "print(\"Accuracy: {:.2f} ({:.2f})\".format(results.mean(), results.std()))"
      ],
      "execution_count": 527,
      "outputs": [
        {
          "output_type": "stream",
          "text": [
            "Accuracy: 0.79 (0.04)\n"
          ],
          "name": "stdout"
        }
      ]
    },
    {
      "cell_type": "code",
      "metadata": {
        "colab": {
          "base_uri": "https://localhost:8080/"
        },
        "id": "ReebCUv2KCdE",
        "outputId": "f0128ada-d1b5-4277-ecbf-3ca1fe9f60d0"
      },
      "source": [
        "auc = roc_auc_score(Y_test, Y_predict)\n",
        "print(auc)"
      ],
      "execution_count": 528,
      "outputs": [
        {
          "output_type": "stream",
          "text": [
            "0.7919236529994433\n"
          ],
          "name": "stdout"
        }
      ]
    },
    {
      "cell_type": "markdown",
      "metadata": {
        "id": "BjAEKh88FD0i"
      },
      "source": [
        "# Random Forest Algorithm"
      ]
    },
    {
      "cell_type": "code",
      "metadata": {
        "colab": {
          "base_uri": "https://localhost:8080/"
        },
        "id": "73ttr2wrAMWN",
        "outputId": "d797531d-e33d-4164-8455-1db38b3cf5b3"
      },
      "source": [
        "#Random Forest\n",
        "import sklearn as sk\n",
        "from sklearn.ensemble import RandomForestClassifier\n",
        "\n",
        "RF = RandomForestClassifier(n_estimators=100, max_depth=2, random_state=0)\n",
        "RF.fit(X_train, Y_train)\n",
        "Y_predict = RF.predict(X_test)\n",
        "Y_train_predict = RF.predict(X_train)\n",
        "\n",
        "# Error calculation \n",
        "error_train = accuracy_score(Y_train_predict, Y_train)\n",
        "print('Training Classif Accuracy: ' + str(error_train))\n",
        "error_val = accuracy_score(Y_predict, Y_test)\n",
        "print('Validation Classif Accuracy: ' + str(error_val))"
      ],
      "execution_count": 529,
      "outputs": [
        {
          "output_type": "stream",
          "text": [
            "Training Classif Accuracy: 0.7491071428571429\n",
            "Validation Classif Accuracy: 0.74375\n"
          ],
          "name": "stdout"
        }
      ]
    },
    {
      "cell_type": "code",
      "metadata": {
        "colab": {
          "base_uri": "https://localhost:8080/"
        },
        "id": "iNOF8VNsKEzV",
        "outputId": "4b5fc2f5-a310-4284-ce6c-1ac087ec8776"
      },
      "source": [
        "auc = roc_auc_score(Y_test, Y_predict)\n",
        "print(auc)"
      ],
      "execution_count": 530,
      "outputs": [
        {
          "output_type": "stream",
          "text": [
            "0.6942137915118716\n"
          ],
          "name": "stdout"
        }
      ]
    },
    {
      "cell_type": "markdown",
      "metadata": {
        "id": "TJ6EHbaEFj1s"
      },
      "source": [
        "# Grid Search Based Parameter Tuning"
      ]
    },
    {
      "cell_type": "code",
      "metadata": {
        "colab": {
          "base_uri": "https://localhost:8080/"
        },
        "id": "B_2XOmMSFpZ8",
        "outputId": "9402b5d3-db95-456c-f7f9-0d602d738021"
      },
      "source": [
        "from sklearn.tree import DecisionTreeClassifier\n",
        "from sklearn.model_selection import GridSearchCV\n",
        "\n",
        "params = {'max_leaf_nodes': [6, 8, 10, 11, 12], 'min_samples_split': [2, 3, 4]}\n",
        "decision_tree = DecisionTreeClassifier(random_state=5)\n",
        "\n",
        "grid_search_cv = GridSearchCV(decision_tree, params, verbose=1, cv=10)\n",
        "grid_search_cv.fit(X_train, Y_train)\n",
        "\n",
        "\n"
      ],
      "execution_count": 531,
      "outputs": [
        {
          "output_type": "stream",
          "text": [
            "Fitting 10 folds for each of 15 candidates, totalling 150 fits\n"
          ],
          "name": "stdout"
        },
        {
          "output_type": "stream",
          "text": [
            "[Parallel(n_jobs=1)]: Using backend SequentialBackend with 1 concurrent workers.\n",
            "[Parallel(n_jobs=1)]: Done 150 out of 150 | elapsed:    1.3s finished\n"
          ],
          "name": "stderr"
        },
        {
          "output_type": "execute_result",
          "data": {
            "text/plain": [
              "GridSearchCV(cv=10, error_score=nan,\n",
              "             estimator=DecisionTreeClassifier(ccp_alpha=0.0, class_weight=None,\n",
              "                                              criterion='gini', max_depth=None,\n",
              "                                              max_features=None,\n",
              "                                              max_leaf_nodes=None,\n",
              "                                              min_impurity_decrease=0.0,\n",
              "                                              min_impurity_split=None,\n",
              "                                              min_samples_leaf=1,\n",
              "                                              min_samples_split=2,\n",
              "                                              min_weight_fraction_leaf=0.0,\n",
              "                                              presort='deprecated',\n",
              "                                              random_state=5, splitter='best'),\n",
              "             iid='deprecated', n_jobs=None,\n",
              "             param_grid={'max_leaf_nodes': [6, 8, 10, 11, 12],\n",
              "                         'min_samples_split': [2, 3, 4]},\n",
              "             pre_dispatch='2*n_jobs', refit=True, return_train_score=False,\n",
              "             scoring=None, verbose=1)"
            ]
          },
          "metadata": {},
          "execution_count": 531
        }
      ]
    },
    {
      "cell_type": "code",
      "metadata": {
        "colab": {
          "base_uri": "https://localhost:8080/"
        },
        "id": "3aKgLjGaGMmi",
        "outputId": "d3580da2-3154-4d42-8db4-a40607163403"
      },
      "source": [
        "grid_search_cv.best_estimator_"
      ],
      "execution_count": 532,
      "outputs": [
        {
          "output_type": "execute_result",
          "data": {
            "text/plain": [
              "DecisionTreeClassifier(ccp_alpha=0.0, class_weight=None, criterion='gini',\n",
              "                       max_depth=None, max_features=None, max_leaf_nodes=12,\n",
              "                       min_impurity_decrease=0.0, min_impurity_split=None,\n",
              "                       min_samples_leaf=1, min_samples_split=2,\n",
              "                       min_weight_fraction_leaf=0.0, presort='deprecated',\n",
              "                       random_state=5, splitter='best')"
            ]
          },
          "metadata": {},
          "execution_count": 532
        }
      ]
    },
    {
      "cell_type": "code",
      "metadata": {
        "colab": {
          "base_uri": "https://localhost:8080/"
        },
        "id": "q9jLI165GPMe",
        "outputId": "5af393ea-b3cc-44ca-b3c2-3d62192f50d7"
      },
      "source": [
        "# Using best parameters from GridSearch\n",
        "from sklearn.metrics import f1_score\n",
        "selection = DecisionTreeClassifier(**grid_search_cv.best_params_)\n",
        "\n",
        "# Using user defined parameters \n",
        "# selection = DecisionTreeClassifier(max_leaf_nodes=6, min_samples_split=2)\n",
        "\n",
        "selection.fit(X_train, Y_train)\n",
        "Y_train_predict = selection.predict(X_train)\n",
        "Y_predict = selection.predict(X_test)\n",
        "\n",
        "# Error calculation \n",
        "error_train = accuracy_score(Y_train_predict, Y_train)\n",
        "print('Training Classif Accuracy: ' + str(error_train))\n",
        "error_val = accuracy_score(Y_predict, Y_test)\n",
        "print('Validation Classif Accuracy: ' + str(error_val))"
      ],
      "execution_count": 533,
      "outputs": [
        {
          "output_type": "stream",
          "text": [
            "Training Classif Accuracy: 0.8147321428571429\n",
            "Validation Classif Accuracy: 0.7854166666666667\n"
          ],
          "name": "stdout"
        }
      ]
    },
    {
      "cell_type": "code",
      "metadata": {
        "colab": {
          "base_uri": "https://localhost:8080/"
        },
        "id": "FuouNSI8KJ1D",
        "outputId": "e730a827-129d-49ba-bd85-bf207c4d3c98"
      },
      "source": [
        "auc = roc_auc_score(Y_test, Y_predict)\n",
        "print(auc)"
      ],
      "execution_count": 534,
      "outputs": [
        {
          "output_type": "stream",
          "text": [
            "0.7596010697268215\n"
          ],
          "name": "stdout"
        }
      ]
    },
    {
      "cell_type": "markdown",
      "metadata": {
        "id": "6hIeE0HjK52B"
      },
      "source": [
        "# Gradient Boosting Algorithm"
      ]
    },
    {
      "cell_type": "code",
      "metadata": {
        "colab": {
          "base_uri": "https://localhost:8080/"
        },
        "id": "GDr6Q2vwK9pq",
        "outputId": "b16011dc-207e-41a7-a4be-ba7619a8c8e8"
      },
      "source": [
        "from numpy import mean\n",
        "from numpy import std\n",
        "from sklearn.datasets import make_classification\n",
        "from sklearn.model_selection import cross_val_score\n",
        "from sklearn.model_selection import RepeatedStratifiedKFold\n",
        "from sklearn.ensemble import GradientBoostingClassifier\n",
        "\n",
        "model = GradientBoostingClassifier()\n",
        "model.fit(X_train, Y_train)\n",
        "\n",
        "Y_train_predict = model.predict(X_train)\n",
        "Y_predict = model.predict(X_test)\n",
        "\n",
        "auc = roc_auc_score(Y_test, Y_predict)\n",
        "print(auc)"
      ],
      "execution_count": 535,
      "outputs": [
        {
          "output_type": "stream",
          "text": [
            "0.8053834771551782\n"
          ],
          "name": "stdout"
        }
      ]
    },
    {
      "cell_type": "code",
      "metadata": {
        "id": "SPDW3xBtOzp7"
      },
      "source": [
        "predict = model.predict(test1)\n",
        "testing_submission = pd.DataFrame()\n",
        "testing_submission['Insurance'] = predict\n",
        "testing_submission['Id'] = test['Id']"
      ],
      "execution_count": 496,
      "outputs": []
    },
    {
      "cell_type": "code",
      "metadata": {
        "id": "TrsP14_RRnPr"
      },
      "source": [
        "testing_submission.to_csv('submission.csv')"
      ],
      "execution_count": 497,
      "outputs": []
    },
    {
      "cell_type": "code",
      "metadata": {
        "colab": {
          "base_uri": "https://localhost:8080/"
        },
        "id": "7tqSZ9P7MEJ0",
        "outputId": "30aacc6d-4dfa-49b9-887d-07ed6624cb97"
      },
      "source": [
        "learning_rates = [0.05, 0.1, 0.25, 0.5, 0.75, 1]\n",
        "for learning_rate in learning_rates:\n",
        "    gb = GradientBoostingClassifier(n_estimators=20, learning_rate = learning_rate, max_features=2, max_depth = 2, random_state = 0)\n",
        "    gb.fit(X_train, Y_train)\n",
        "    print(\"Learning rate: \", learning_rate)\n",
        "    print(\"Accuracy score (training): {0:.3f}\".format(gb.score(X_train, Y_train)))\n",
        "    print(\"Accuracy score (validation): {0:.3f}\".format(gb.score(X_test, Y_test)))\n",
        "    print()"
      ],
      "execution_count": 498,
      "outputs": [
        {
          "output_type": "stream",
          "text": [
            "Learning rate:  0.05\n",
            "Accuracy score (training): 0.686\n",
            "Accuracy score (validation): 0.665\n",
            "\n",
            "Learning rate:  0.1\n",
            "Accuracy score (training): 0.791\n",
            "Accuracy score (validation): 0.779\n",
            "\n",
            "Learning rate:  0.25\n",
            "Accuracy score (training): 0.825\n",
            "Accuracy score (validation): 0.807\n",
            "\n",
            "Learning rate:  0.5\n",
            "Accuracy score (training): 0.829\n",
            "Accuracy score (validation): 0.811\n",
            "\n",
            "Learning rate:  0.75\n",
            "Accuracy score (training): 0.828\n",
            "Accuracy score (validation): 0.792\n",
            "\n",
            "Learning rate:  1\n",
            "Accuracy score (training): 0.828\n",
            "Accuracy score (validation): 0.790\n",
            "\n"
          ],
          "name": "stdout"
        }
      ]
    },
    {
      "cell_type": "code",
      "metadata": {
        "colab": {
          "base_uri": "https://localhost:8080/"
        },
        "id": "rTxZg2gOXf2M",
        "outputId": "48d3b4fa-825e-4104-8252-b52ebfe951be"
      },
      "source": [
        "from sklearn.metrics import classification_report, confusion_matrix, roc_curve, auc\n",
        "\n",
        "gb = GradientBoostingClassifier(n_estimators=20, learning_rate = 0.5, max_features=2, max_depth = 2, random_state = 0)\n",
        "gb.fit(X_train, Y_train)\n",
        "predictions = gb.predict(X_test)\n",
        "\n",
        "print(\"Confusion Matrix:\")\n",
        "print(confusion_matrix(Y_test, predictions))\n",
        "print()\n",
        "print(\"Classification Report\")\n",
        "print(classification_report(Y_test, predictions))\n",
        "\n",
        "y_scores_gb = gb.decision_function(X_test)\n",
        "fpr_gb, tpr_gb, _ = roc_curve(Y_test, y_scores_gb)\n",
        "roc_auc_gb = auc(fpr_gb, tpr_gb)\n",
        "\n",
        "print(\"Area under ROC curve = {:0.2f}\".format(roc_auc_gb))"
      ],
      "execution_count": 500,
      "outputs": [
        {
          "output_type": "stream",
          "text": [
            "Confusion Matrix:\n",
            "[[497  80]\n",
            " [101 282]]\n",
            "\n",
            "Classification Report\n",
            "              precision    recall  f1-score   support\n",
            "\n",
            "           0       0.83      0.86      0.85       577\n",
            "           1       0.78      0.74      0.76       383\n",
            "\n",
            "    accuracy                           0.81       960\n",
            "   macro avg       0.81      0.80      0.80       960\n",
            "weighted avg       0.81      0.81      0.81       960\n",
            "\n",
            "Area under ROC curve = 0.88\n"
          ],
          "name": "stdout"
        }
      ]
    },
    {
      "cell_type": "code",
      "metadata": {
        "id": "5DmGyfX9YFfn"
      },
      "source": [
        "predict = gb.predict(test1)\n",
        "testing_submission = pd.DataFrame()\n",
        "testing_submission['Insurance'] = predict\n",
        "testing_submission['Id'] = test['Id']\n",
        "testing_submission.to_csv('submission.csv')"
      ],
      "execution_count": 501,
      "outputs": []
    }
  ]
}
